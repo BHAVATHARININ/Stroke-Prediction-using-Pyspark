{
  "nbformat": 4,
  "nbformat_minor": 0,
  "metadata": {
    "colab": {
      "provenance": [],
      "authorship_tag": "ABX9TyMKaecfSV2Rb8BpoJuwptK6",
      "include_colab_link": true
    },
    "kernelspec": {
      "name": "python3",
      "display_name": "Python 3"
    },
    "language_info": {
      "name": "python"
    }
  },
  "cells": [
    {
      "cell_type": "markdown",
      "metadata": {
        "id": "view-in-github",
        "colab_type": "text"
      },
      "source": [
        "<a href=\"https://colab.research.google.com/github/BHAVATHARININ/Stroke-Prediction-using-Pyspark/blob/main/BDA_STROKE_PREDICTION.ipynb\" target=\"_parent\"><img src=\"https://colab.research.google.com/assets/colab-badge.svg\" alt=\"Open In Colab\"/></a>"
      ]
    },
    {
      "cell_type": "code",
      "execution_count": null,
      "metadata": {
        "colab": {
          "base_uri": "https://localhost:8080/"
        },
        "id": "kW8Nly3V9ml0",
        "outputId": "242b2b80-5a05-410e-a2f1-e005e23e7e0e"
      },
      "outputs": [
        {
          "output_type": "stream",
          "name": "stdout",
          "text": [
            "Collecting pyspark\n",
            "  Downloading pyspark-3.5.0.tar.gz (316.9 MB)\n",
            "\u001b[2K     \u001b[90m━━━━━━━━━━━━━━━━━━━━━━━━━━━━━━━━━━━━━━━━\u001b[0m \u001b[32m316.9/316.9 MB\u001b[0m \u001b[31m4.6 MB/s\u001b[0m eta \u001b[36m0:00:00\u001b[0m\n",
            "\u001b[?25h  Preparing metadata (setup.py) ... \u001b[?25l\u001b[?25hdone\n",
            "Requirement already satisfied: py4j==0.10.9.7 in /usr/local/lib/python3.10/dist-packages (from pyspark) (0.10.9.7)\n",
            "Building wheels for collected packages: pyspark\n",
            "  Building wheel for pyspark (setup.py) ... \u001b[?25l\u001b[?25hdone\n",
            "  Created wheel for pyspark: filename=pyspark-3.5.0-py2.py3-none-any.whl size=317425344 sha256=2572c64d06ee7f5ea2ea5189018f1b14b3ee56d5443e8e18888768bdf74ced90\n",
            "  Stored in directory: /root/.cache/pip/wheels/41/4e/10/c2cf2467f71c678cfc8a6b9ac9241e5e44a01940da8fbb17fc\n",
            "Successfully built pyspark\n",
            "Installing collected packages: pyspark\n",
            "Successfully installed pyspark-3.5.0\n"
          ]
        }
      ],
      "source": [
        "!pip install pyspark"
      ]
    },
    {
      "cell_type": "markdown",
      "source": [
        "**Loading of Dataset**"
      ],
      "metadata": {
        "id": "72vpx1vzrerq"
      }
    },
    {
      "cell_type": "code",
      "source": [
        "import pandas as pd\n",
        "from pyspark.sql import SparkSession\n",
        "spark = SparkSession.builder.appName(\"StrokePredictionAnalysis\").getOrCreate()"
      ],
      "metadata": {
        "id": "7Y0qeBDP9oi-"
      },
      "execution_count": null,
      "outputs": []
    },
    {
      "cell_type": "code",
      "source": [
        "df = spark.read.csv(\"/content/healthcare-dataset-stroke-data.csv\",header=True,inferSchema=True)"
      ],
      "metadata": {
        "id": "Nc5zWfhI90Fz"
      },
      "execution_count": null,
      "outputs": []
    },
    {
      "cell_type": "code",
      "source": [
        "df.printSchema()"
      ],
      "metadata": {
        "colab": {
          "base_uri": "https://localhost:8080/"
        },
        "id": "429joLazp3Aq",
        "outputId": "ef92dd95-458b-4607-f66b-4122aa41c719"
      },
      "execution_count": null,
      "outputs": [
        {
          "output_type": "stream",
          "name": "stdout",
          "text": [
            "root\n",
            " |-- id: integer (nullable = true)\n",
            " |-- gender: string (nullable = true)\n",
            " |-- age: double (nullable = true)\n",
            " |-- hypertension: integer (nullable = true)\n",
            " |-- heart_disease: integer (nullable = true)\n",
            " |-- ever_married: string (nullable = true)\n",
            " |-- work_type: string (nullable = true)\n",
            " |-- Residence_type: string (nullable = true)\n",
            " |-- avg_glucose_level: double (nullable = true)\n",
            " |-- bmi: string (nullable = true)\n",
            " |-- smoking_status: string (nullable = true)\n",
            " |-- stroke: integer (nullable = true)\n",
            "\n"
          ]
        }
      ]
    },
    {
      "cell_type": "code",
      "source": [
        "df.show()"
      ],
      "metadata": {
        "id": "pHiFDRVKp5Dc",
        "colab": {
          "base_uri": "https://localhost:8080/"
        },
        "outputId": "286b11ff-d08b-4b14-c63f-0bd253f547e0"
      },
      "execution_count": null,
      "outputs": [
        {
          "output_type": "stream",
          "name": "stdout",
          "text": [
            "+-----+------+----+------------+-------------+------------+-------------+--------------+-----------------+----+---------------+------+\n",
            "|   id|gender| age|hypertension|heart_disease|ever_married|    work_type|Residence_type|avg_glucose_level| bmi| smoking_status|stroke|\n",
            "+-----+------+----+------------+-------------+------------+-------------+--------------+-----------------+----+---------------+------+\n",
            "| 9046|  Male|67.0|           0|            1|         Yes|      Private|         Urban|           228.69|36.6|formerly smoked|     1|\n",
            "|51676|Female|61.0|           0|            0|         Yes|Self-employed|         Rural|           202.21| N/A|   never smoked|     1|\n",
            "|31112|  Male|80.0|           0|            1|         Yes|      Private|         Rural|           105.92|32.5|   never smoked|     1|\n",
            "|60182|Female|49.0|           0|            0|         Yes|      Private|         Urban|           171.23|34.4|         smokes|     1|\n",
            "| 1665|Female|79.0|           1|            0|         Yes|Self-employed|         Rural|           174.12|  24|   never smoked|     1|\n",
            "|56669|  Male|81.0|           0|            0|         Yes|      Private|         Urban|           186.21|  29|formerly smoked|     1|\n",
            "|53882|  Male|74.0|           1|            1|         Yes|      Private|         Rural|            70.09|27.4|   never smoked|     1|\n",
            "|10434|Female|69.0|           0|            0|          No|      Private|         Urban|            94.39|22.8|   never smoked|     1|\n",
            "|27419|Female|59.0|           0|            0|         Yes|      Private|         Rural|            76.15| N/A|        Unknown|     1|\n",
            "|60491|Female|78.0|           0|            0|         Yes|      Private|         Urban|            58.57|24.2|        Unknown|     1|\n",
            "|12109|Female|81.0|           1|            0|         Yes|      Private|         Rural|            80.43|29.7|   never smoked|     1|\n",
            "|12095|Female|61.0|           0|            1|         Yes|     Govt_job|         Rural|           120.46|36.8|         smokes|     1|\n",
            "|12175|Female|54.0|           0|            0|         Yes|      Private|         Urban|           104.51|27.3|         smokes|     1|\n",
            "| 8213|  Male|78.0|           0|            1|         Yes|      Private|         Urban|           219.84| N/A|        Unknown|     1|\n",
            "| 5317|Female|79.0|           0|            1|         Yes|      Private|         Urban|           214.09|28.2|   never smoked|     1|\n",
            "|58202|Female|50.0|           1|            0|         Yes|Self-employed|         Rural|           167.41|30.9|   never smoked|     1|\n",
            "|56112|  Male|64.0|           0|            1|         Yes|      Private|         Urban|           191.61|37.5|         smokes|     1|\n",
            "|34120|  Male|75.0|           1|            0|         Yes|      Private|         Urban|           221.29|25.8|         smokes|     1|\n",
            "|27458|Female|60.0|           0|            0|          No|      Private|         Urban|            89.22|37.8|   never smoked|     1|\n",
            "|25226|  Male|57.0|           0|            1|          No|     Govt_job|         Urban|           217.08| N/A|        Unknown|     1|\n",
            "+-----+------+----+------------+-------------+------------+-------------+--------------+-----------------+----+---------------+------+\n",
            "only showing top 20 rows\n",
            "\n"
          ]
        }
      ]
    },
    {
      "cell_type": "markdown",
      "source": [
        "This code shows a summary statistics table of a DataFrame in PySpark.\n"
      ],
      "metadata": {
        "id": "jguRn4X-rjOK"
      }
    },
    {
      "cell_type": "code",
      "source": [
        "df.describe().show()"
      ],
      "metadata": {
        "id": "h0I6n2ZYp8qD",
        "colab": {
          "base_uri": "https://localhost:8080/"
        },
        "outputId": "c503f675-2f8f-4658-e1b0-e751f16f3e8e"
      },
      "execution_count": null,
      "outputs": [
        {
          "output_type": "stream",
          "name": "stdout",
          "text": [
            "+-------+-----------------+------+------------------+------------------+-------------------+------------+---------+--------------+------------------+------------------+--------------+-------------------+\n",
            "|summary|               id|gender|               age|      hypertension|      heart_disease|ever_married|work_type|Residence_type| avg_glucose_level|               bmi|smoking_status|             stroke|\n",
            "+-------+-----------------+------+------------------+------------------+-------------------+------------+---------+--------------+------------------+------------------+--------------+-------------------+\n",
            "|  count|             5110|  5110|              5110|              5110|               5110|        5110|     5110|          5110|              5110|              5110|          5110|               5110|\n",
            "|   mean|36517.82935420744|  NULL|43.226614481409015|0.0974559686888454|0.05401174168297456|        NULL|     NULL|          NULL|106.14767710371804|28.893236911794673|          NULL| 0.0487279843444227|\n",
            "| stddev|21161.72162482715|  NULL| 22.61264672311348| 0.296606674233791|0.22606298750336554|        NULL|     NULL|          NULL| 45.28356015058193|  7.85406672968016|          NULL|0.21531985698023753|\n",
            "|    min|               67|Female|              0.08|                 0|                  0|          No| Govt_job|         Rural|             55.12|              10.3|       Unknown|                  0|\n",
            "|    max|            72940| Other|              82.0|                 1|                  1|         Yes| children|         Urban|            271.74|               N/A|        smokes|                  1|\n",
            "+-------+-----------------+------+------------------+------------------+-------------------+------------+---------+--------------+------------------+------------------+--------------+-------------------+\n",
            "\n"
          ]
        }
      ]
    },
    {
      "cell_type": "markdown",
      "source": [
        "This code displays the data types of columns in a DataFrame."
      ],
      "metadata": {
        "id": "lHZx6v61rqIt"
      }
    },
    {
      "cell_type": "code",
      "source": [
        "df.dtypes"
      ],
      "metadata": {
        "id": "equrDPzTrn_k",
        "colab": {
          "base_uri": "https://localhost:8080/"
        },
        "outputId": "4dfd87bf-4e82-461e-fc93-2230c8ecf3ca"
      },
      "execution_count": null,
      "outputs": [
        {
          "output_type": "execute_result",
          "data": {
            "text/plain": [
              "[('id', 'int'),\n",
              " ('gender', 'string'),\n",
              " ('age', 'double'),\n",
              " ('hypertension', 'int'),\n",
              " ('heart_disease', 'int'),\n",
              " ('ever_married', 'string'),\n",
              " ('work_type', 'string'),\n",
              " ('Residence_type', 'string'),\n",
              " ('avg_glucose_level', 'double'),\n",
              " ('bmi', 'string'),\n",
              " ('smoking_status', 'string'),\n",
              " ('stroke', 'int')]"
            ]
          },
          "metadata": {},
          "execution_count": 8
        }
      ]
    },
    {
      "cell_type": "markdown",
      "source": [
        "This code returns a list of column names in the DataFrame."
      ],
      "metadata": {
        "id": "mSBIozohrs-e"
      }
    },
    {
      "cell_type": "code",
      "source": [
        "df.columns"
      ],
      "metadata": {
        "id": "6tr7TLxNp9Og",
        "colab": {
          "base_uri": "https://localhost:8080/"
        },
        "outputId": "7b438391-8bda-4141-a064-59ea2195557b"
      },
      "execution_count": null,
      "outputs": [
        {
          "output_type": "execute_result",
          "data": {
            "text/plain": [
              "['id',\n",
              " 'gender',\n",
              " 'age',\n",
              " 'hypertension',\n",
              " 'heart_disease',\n",
              " 'ever_married',\n",
              " 'work_type',\n",
              " 'Residence_type',\n",
              " 'avg_glucose_level',\n",
              " 'bmi',\n",
              " 'smoking_status',\n",
              " 'stroke']"
            ]
          },
          "metadata": {},
          "execution_count": 9
        }
      ]
    },
    {
      "cell_type": "markdown",
      "source": [
        "This code prints the count of rows and the number of columns in the DataFrame as a tuple.\n",
        "\n"
      ],
      "metadata": {
        "id": "Ks-wv3oVrv_b"
      }
    },
    {
      "cell_type": "code",
      "source": [
        "print((df.count(), len(df.columns)))"
      ],
      "metadata": {
        "id": "WbV6j5RUqAZb",
        "colab": {
          "base_uri": "https://localhost:8080/"
        },
        "outputId": "f2148e0e-1a0a-4443-c832-70c61c8132a7"
      },
      "execution_count": null,
      "outputs": [
        {
          "output_type": "stream",
          "name": "stdout",
          "text": [
            "(5110, 12)\n"
          ]
        }
      ]
    },
    {
      "cell_type": "markdown",
      "source": [
        "This code removes rows with missing (null) values from the DataFrame."
      ],
      "metadata": {
        "id": "nssca6sYrzNs"
      }
    },
    {
      "cell_type": "code",
      "source": [
        "df = df.dropna()"
      ],
      "metadata": {
        "id": "af2Wt2ttqEp6"
      },
      "execution_count": null,
      "outputs": []
    },
    {
      "cell_type": "code",
      "source": [
        "print((df.count(), len(df.columns)))"
      ],
      "metadata": {
        "id": "KaRHAlimqGjM",
        "colab": {
          "base_uri": "https://localhost:8080/"
        },
        "outputId": "9d903fdf-1e0e-47bf-c343-fead7a9045bf"
      },
      "execution_count": null,
      "outputs": [
        {
          "output_type": "stream",
          "name": "stdout",
          "text": [
            "(5110, 12)\n"
          ]
        }
      ]
    },
    {
      "cell_type": "markdown",
      "source": [
        "This code counts and displays the number of null (missing) values in each column of the DataFrame."
      ],
      "metadata": {
        "id": "6g4-_jCMr2Vk"
      }
    },
    {
      "cell_type": "code",
      "source": [
        "from pyspark.sql.functions import col, sum\n",
        "nan_counts = df.select([sum(col(c).isNull().cast(\"int\")).alias(c) for c in df.columns])\n",
        "nan_counts.show()"
      ],
      "metadata": {
        "id": "F01wKBFHqI-u",
        "colab": {
          "base_uri": "https://localhost:8080/"
        },
        "outputId": "f12115f0-800c-4125-a429-00c7379fcd80"
      },
      "execution_count": null,
      "outputs": [
        {
          "output_type": "stream",
          "name": "stdout",
          "text": [
            "+---+------+---+------------+-------------+------------+---------+--------------+-----------------+---+--------------+------+\n",
            "| id|gender|age|hypertension|heart_disease|ever_married|work_type|Residence_type|avg_glucose_level|bmi|smoking_status|stroke|\n",
            "+---+------+---+------------+-------------+------------+---------+--------------+-----------------+---+--------------+------+\n",
            "|  0|     0|  0|           0|            0|           0|        0|             0|                0|  0|             0|     0|\n",
            "+---+------+---+------------+-------------+------------+---------+--------------+-----------------+---+--------------+------+\n",
            "\n"
          ]
        }
      ]
    },
    {
      "cell_type": "code",
      "source": [
        "df.dtypes"
      ],
      "metadata": {
        "id": "bQ81TXZRqOYN",
        "colab": {
          "base_uri": "https://localhost:8080/"
        },
        "outputId": "1845bfa8-49f5-47e6-cd39-ff421b7fe51c"
      },
      "execution_count": null,
      "outputs": [
        {
          "output_type": "execute_result",
          "data": {
            "text/plain": [
              "[('id', 'int'),\n",
              " ('gender', 'string'),\n",
              " ('age', 'double'),\n",
              " ('hypertension', 'int'),\n",
              " ('heart_disease', 'int'),\n",
              " ('ever_married', 'string'),\n",
              " ('work_type', 'string'),\n",
              " ('Residence_type', 'string'),\n",
              " ('avg_glucose_level', 'double'),\n",
              " ('bmi', 'string'),\n",
              " ('smoking_status', 'string'),\n",
              " ('stroke', 'int')]"
            ]
          },
          "metadata": {},
          "execution_count": 14
        }
      ]
    },
    {
      "cell_type": "markdown",
      "source": [
        "These two commands group the DataFrame by the 'Smoking status' and 'Worker type' columns separately and then count the number of rows in each group, displaying the results in two separate DataFrames. This helps summarize the distribution of product names and brands in the dataset.\n",
        "\n"
      ],
      "metadata": {
        "id": "W8DzyhRosF1V"
      }
    },
    {
      "cell_type": "code",
      "source": [
        "df.groupBy('smoking_status').count().show()\n",
        "df.groupBy('work_type').count().show()"
      ],
      "metadata": {
        "id": "KTGa00fkqQzy",
        "colab": {
          "base_uri": "https://localhost:8080/"
        },
        "outputId": "435a19eb-bf6b-4092-b1a0-df6961ffb922"
      },
      "execution_count": null,
      "outputs": [
        {
          "output_type": "stream",
          "name": "stdout",
          "text": [
            "+---------------+-----+\n",
            "| smoking_status|count|\n",
            "+---------------+-----+\n",
            "|         smokes|  789|\n",
            "|        Unknown| 1544|\n",
            "|   never smoked| 1892|\n",
            "|formerly smoked|  885|\n",
            "+---------------+-----+\n",
            "\n",
            "+-------------+-----+\n",
            "|    work_type|count|\n",
            "+-------------+-----+\n",
            "| Never_worked|   22|\n",
            "|Self-employed|  819|\n",
            "|      Private| 2925|\n",
            "|     children|  687|\n",
            "|     Govt_job|  657|\n",
            "+-------------+-----+\n",
            "\n"
          ]
        }
      ]
    },
    {
      "cell_type": "code",
      "source": [
        "from pyspark.ml.feature import StringIndexer\n",
        "string_columns = ['gender', 'ever_married', 'work_type', 'Residence_type', 'smoking_status']\n",
        "for col in string_columns:\n",
        "    indexer = StringIndexer(inputCol=col, outputCol=col + \"_encode\")\n",
        "    df = indexer.fit(df).transform(df)\n",
        "data = df.select(['ID', 'age', 'hypertension', 'heart_disease','stroke', 'avg_glucose_level'] + [col + '_encode' for col in string_columns])\n"
      ],
      "metadata": {
        "id": "8ez5ltJAqiWs"
      },
      "execution_count": null,
      "outputs": []
    },
    {
      "cell_type": "code",
      "source": [
        "data.show()"
      ],
      "metadata": {
        "id": "gttBgk8WqxLg",
        "colab": {
          "base_uri": "https://localhost:8080/"
        },
        "outputId": "65f82e47-4438-4bcb-8900-c8577768e897"
      },
      "execution_count": null,
      "outputs": [
        {
          "output_type": "stream",
          "name": "stdout",
          "text": [
            "+-----+----+------------+-------------+------+-----------------+-------------+-------------------+----------------+---------------------+---------------------+\n",
            "|   ID| age|hypertension|heart_disease|stroke|avg_glucose_level|gender_encode|ever_married_encode|work_type_encode|Residence_type_encode|smoking_status_encode|\n",
            "+-----+----+------------+-------------+------+-----------------+-------------+-------------------+----------------+---------------------+---------------------+\n",
            "| 9046|67.0|           0|            1|     1|           228.69|          1.0|                0.0|             0.0|                  0.0|                  2.0|\n",
            "|51676|61.0|           0|            0|     1|           202.21|          0.0|                0.0|             1.0|                  1.0|                  0.0|\n",
            "|31112|80.0|           0|            1|     1|           105.92|          1.0|                0.0|             0.0|                  1.0|                  0.0|\n",
            "|60182|49.0|           0|            0|     1|           171.23|          0.0|                0.0|             0.0|                  0.0|                  3.0|\n",
            "| 1665|79.0|           1|            0|     1|           174.12|          0.0|                0.0|             1.0|                  1.0|                  0.0|\n",
            "|56669|81.0|           0|            0|     1|           186.21|          1.0|                0.0|             0.0|                  0.0|                  2.0|\n",
            "|53882|74.0|           1|            1|     1|            70.09|          1.0|                0.0|             0.0|                  1.0|                  0.0|\n",
            "|10434|69.0|           0|            0|     1|            94.39|          0.0|                1.0|             0.0|                  0.0|                  0.0|\n",
            "|27419|59.0|           0|            0|     1|            76.15|          0.0|                0.0|             0.0|                  1.0|                  1.0|\n",
            "|60491|78.0|           0|            0|     1|            58.57|          0.0|                0.0|             0.0|                  0.0|                  1.0|\n",
            "|12109|81.0|           1|            0|     1|            80.43|          0.0|                0.0|             0.0|                  1.0|                  0.0|\n",
            "|12095|61.0|           0|            1|     1|           120.46|          0.0|                0.0|             3.0|                  1.0|                  3.0|\n",
            "|12175|54.0|           0|            0|     1|           104.51|          0.0|                0.0|             0.0|                  0.0|                  3.0|\n",
            "| 8213|78.0|           0|            1|     1|           219.84|          1.0|                0.0|             0.0|                  0.0|                  1.0|\n",
            "| 5317|79.0|           0|            1|     1|           214.09|          0.0|                0.0|             0.0|                  0.0|                  0.0|\n",
            "|58202|50.0|           1|            0|     1|           167.41|          0.0|                0.0|             1.0|                  1.0|                  0.0|\n",
            "|56112|64.0|           0|            1|     1|           191.61|          1.0|                0.0|             0.0|                  0.0|                  3.0|\n",
            "|34120|75.0|           1|            0|     1|           221.29|          1.0|                0.0|             0.0|                  0.0|                  3.0|\n",
            "|27458|60.0|           0|            0|     1|            89.22|          0.0|                1.0|             0.0|                  0.0|                  0.0|\n",
            "|25226|57.0|           0|            1|     1|           217.08|          1.0|                1.0|             3.0|                  0.0|                  1.0|\n",
            "+-----+----+------------+-------------+------+-----------------+-------------+-------------------+----------------+---------------------+---------------------+\n",
            "only showing top 20 rows\n",
            "\n"
          ]
        }
      ]
    },
    {
      "cell_type": "code",
      "source": [
        "data.dtypes"
      ],
      "metadata": {
        "id": "50qEXEyWqzWO",
        "colab": {
          "base_uri": "https://localhost:8080/"
        },
        "outputId": "df3ad7a1-3cc9-478e-9153-3f27e5aa2798"
      },
      "execution_count": null,
      "outputs": [
        {
          "output_type": "execute_result",
          "data": {
            "text/plain": [
              "[('ID', 'int'),\n",
              " ('age', 'double'),\n",
              " ('hypertension', 'int'),\n",
              " ('heart_disease', 'int'),\n",
              " ('stroke', 'int'),\n",
              " ('avg_glucose_level', 'double'),\n",
              " ('gender_encode', 'double'),\n",
              " ('ever_married_encode', 'double'),\n",
              " ('work_type_encode', 'double'),\n",
              " ('Residence_type_encode', 'double'),\n",
              " ('smoking_status_encode', 'double')]"
            ]
          },
          "metadata": {},
          "execution_count": 18
        }
      ]
    },
    {
      "cell_type": "code",
      "source": [
        "from pyspark.sql.functions import col\n",
        "\n",
        "data = data.withColumn(\"age\", col(\"age\").cast(\"int\"))\n",
        "data = data.withColumn(\"avg_glucose_level\", col(\"avg_glucose_level\").cast(\"int\"))\n",
        "data = data.withColumn(\"gender_encode\", col(\"gender_encode\").cast(\"int\"))\n",
        "data = data.withColumn(\"ever_married_encode\", col(\"ever_married_encode\").cast(\"int\"))\n",
        "data = data.withColumn(\"work_type_encode\", col(\"work_type_encode\").cast(\"int\"))\n",
        "data = data.withColumn(\"Residence_type_encode\", col(\"Residence_type_encode\").cast(\"int\"))\n",
        "data = data.withColumn(\"smoking_status_encode\", col(\"smoking_status_encode\").cast(\"int\"))"
      ],
      "metadata": {
        "id": "2rPAXt3yq1Rd"
      },
      "execution_count": null,
      "outputs": []
    },
    {
      "cell_type": "code",
      "source": [
        "data.dtypes"
      ],
      "metadata": {
        "id": "a2i4-sv-rB-x",
        "colab": {
          "base_uri": "https://localhost:8080/"
        },
        "outputId": "90aa3ce0-5a80-4101-a49e-626326e70102"
      },
      "execution_count": null,
      "outputs": [
        {
          "output_type": "execute_result",
          "data": {
            "text/plain": [
              "[('ID', 'int'),\n",
              " ('age', 'int'),\n",
              " ('hypertension', 'int'),\n",
              " ('heart_disease', 'int'),\n",
              " ('stroke', 'int'),\n",
              " ('avg_glucose_level', 'int'),\n",
              " ('gender_encode', 'int'),\n",
              " ('ever_married_encode', 'int'),\n",
              " ('work_type_encode', 'int'),\n",
              " ('Residence_type_encode', 'int'),\n",
              " ('smoking_status_encode', 'int')]"
            ]
          },
          "metadata": {},
          "execution_count": 20
        }
      ]
    },
    {
      "cell_type": "code",
      "source": [
        "data = data.withColumnRenamed(\"id\",\"ID\")\n",
        "data = data.withColumnRenamed(\"ever_married_encode\",\"Martial Status\")\n",
        "data = data.withColumnRenamed(\"age\",\"Age\")\n",
        "data = data.withColumnRenamed(\"hypertension\",\"Hypertension\")\n",
        "data = data.withColumnRenamed(\"avg_glucose_level\",\"Glucose Level (avg)\")\n",
        "data = data.withColumnRenamed(\"stroke\",\"Stroke\")\n",
        "data = data.withColumnRenamed(\"gender_encode\",\"Gender\")\n",
        "data = data.withColumnRenamed(\"work_type_encode\",\"Work Type\")\n",
        "data = data.withColumnRenamed(\"Residence_type_encode\",\"Residence Type\")\n",
        "data = data.withColumnRenamed(\"smoking_status_encode\",\"Smoking Status\")"
      ],
      "metadata": {
        "id": "NXcVy0MsrE8z"
      },
      "execution_count": null,
      "outputs": []
    },
    {
      "cell_type": "code",
      "source": [
        "data.columns"
      ],
      "metadata": {
        "id": "tFbsctDTrVhe",
        "colab": {
          "base_uri": "https://localhost:8080/"
        },
        "outputId": "9d502105-8a7d-4b19-9ba0-8bdb0571809e"
      },
      "execution_count": null,
      "outputs": [
        {
          "output_type": "execute_result",
          "data": {
            "text/plain": [
              "['ID',\n",
              " 'Age',\n",
              " 'Hypertension',\n",
              " 'heart_disease',\n",
              " 'Stroke',\n",
              " 'Glucose Level (avg)',\n",
              " 'Gender',\n",
              " 'Martial Status',\n",
              " 'Work Type',\n",
              " 'Residence Type',\n",
              " 'Smoking Status']"
            ]
          },
          "metadata": {},
          "execution_count": 22
        }
      ]
    },
    {
      "cell_type": "markdown",
      "source": [
        "\n",
        "\n",
        "---\n",
        "\n",
        "\n",
        "**RANDOM FOREST CLASSIFIER WITHOUT PIPELINE**"
      ],
      "metadata": {
        "id": "_BYAdaRmBJYY"
      }
    },
    {
      "cell_type": "markdown",
      "source": [
        "**What is Random Forest Classifier ?**\n",
        "\n",
        "A Random Forest Classifier is an ensemble machine learning model that combines multiple decision trees to make predictions, offering high accuracy and reducing overfitting by aggregating results from individual trees. It's commonly used for classification tasks in various domains, such as image recognition and predictive modeling."
      ],
      "metadata": {
        "id": "Xb_udwN2XxMK"
      }
    },
    {
      "cell_type": "markdown",
      "source": [
        "**What is Vector Assembler ?**\n",
        "\n",
        "  \n",
        "\n",
        "1.   It is a feature transformer in PySpark used to combine multiple input columns into a single vector column. It takes a list of input columns and assembles them into a vector, making it suitable for machine learning tasks.\n",
        "2.   This is particularly useful when you need to feed multiple features into machine learning algorithms that expect a single input column.\n",
        "\n"
      ],
      "metadata": {
        "id": "IGXuiQmrsPRQ"
      }
    },
    {
      "cell_type": "code",
      "source": [
        "from pyspark.ml.classification import RandomForestClassifier\n",
        "from pyspark.ml.feature import VectorAssembler, StringIndexer, OneHotEncoder\n",
        "from pyspark.ml.evaluation import BinaryClassificationEvaluator\n",
        "from pyspark.sql import SparkSession\n",
        "from pyspark.sql.functions import when\n",
        "\n",
        "categorical_cols = ['gender', 'work_type', 'Residence_type', 'smoking_status']\n",
        "numeric_cols = ['age', 'hypertension', 'heart_disease', 'avg_glucose_level']\n",
        "target_col = 'stroke'\n",
        "\n",
        "spark = SparkSession.builder.appName(\"StrokePrediction\").getOrCreate()\n",
        "df = spark.read.csv(\"/content/healthcare-dataset-stroke-data.csv\", header=True, inferSchema=True)\n",
        "\n",
        "# One-hot encoding for categorical columns\n",
        "indexers = [StringIndexer(inputCol=col, outputCol=col + \"_index\") for col in categorical_cols]\n",
        "for indexer in indexers:\n",
        "    df = indexer.fit(df).transform(df)\n",
        "encoders = [OneHotEncoder(inputCol=col + \"_index\", outputCol=col + \"_encoded\") for col in categorical_cols]\n",
        "encoder_models = [encoder.fit(df) for encoder in encoders]\n",
        "for encoder, encoder_model in zip(encoders, encoder_models):\n",
        "    df = encoder_model.transform(df)\n",
        "# Vector Assembler\n",
        "assembler = VectorAssembler(inputCols=numeric_cols + [col + \"_encoded\" for col in categorical_cols], outputCol='features')\n",
        "df = assembler.transform(df)\n",
        "# Creating amodel\n",
        "rf = RandomForestClassifier(featuresCol='features', labelCol=target_col, numTrees=100, maxDepth=5)\n",
        "rf_model = rf.fit(df)\n",
        "\n",
        "predictions = rf_model.transform(df)\n",
        "\n",
        "df_with_predictions = df_with_predictions.select(['ID', target_col, 'Stroke_Prediction_Label'])\n",
        "df_with_predictions.show()\n",
        "\n",
        "# Accuracy Calculation\n",
        "evaluator = BinaryClassificationEvaluator(labelCol=target_col)\n",
        "accuracy = evaluator.evaluate(predictions)\n",
        "\n",
        "print(\"Model Accuracy: {:.2f}%\".format(accuracy * 100))\n",
        "spark.stop()\n"
      ],
      "metadata": {
        "colab": {
          "base_uri": "https://localhost:8080/"
        },
        "id": "hmJM8tJwBIeC",
        "outputId": "27e78897-83ff-499b-aaec-d718f502ef1d"
      },
      "execution_count": null,
      "outputs": [
        {
          "output_type": "stream",
          "name": "stdout",
          "text": [
            "+-----+------+-----------------------+\n",
            "|   ID|stroke|Stroke_Prediction_Label|\n",
            "+-----+------+-----------------------+\n",
            "| 9046|     1|                      1|\n",
            "|51676|     1|                      1|\n",
            "|31112|     1|                      1|\n",
            "|60182|     1|                      1|\n",
            "| 1665|     1|                      1|\n",
            "|56669|     1|                      1|\n",
            "|53882|     1|                      1|\n",
            "|10434|     1|                      1|\n",
            "|27419|     1|                      1|\n",
            "|60491|     1|                      1|\n",
            "|12109|     1|                      1|\n",
            "|12095|     1|                      1|\n",
            "|12175|     1|                      1|\n",
            "| 8213|     1|                      1|\n",
            "| 5317|     1|                      1|\n",
            "|58202|     1|                      1|\n",
            "|56112|     1|                      1|\n",
            "|34120|     1|                      1|\n",
            "|27458|     1|                      1|\n",
            "|25226|     1|                      1|\n",
            "+-----+------+-----------------------+\n",
            "only showing top 20 rows\n",
            "\n",
            "Model Accuracy: 86.13%\n"
          ]
        }
      ]
    },
    {
      "cell_type": "markdown",
      "source": [
        "**RANDOM FOREST CLASSIFIER WITH PIPELINE**"
      ],
      "metadata": {
        "id": "-jpkeaFMCrdz"
      }
    },
    {
      "cell_type": "markdown",
      "source": [
        "**What is Pipeline and why it is used ?**\n",
        "\n",
        "A pipeline in machine learning is a sequential process that automates the execution of multiple data preprocessing and modeling stages, ensuring consistent and efficient workflow from data preparation to model training and prediction."
      ],
      "metadata": {
        "id": "O10a3JoAsXx0"
      }
    },
    {
      "cell_type": "code",
      "source": [
        "from pyspark.ml.classification import RandomForestClassifier\n",
        "from pyspark.ml.feature import VectorAssembler, StringIndexer, OneHotEncoder\n",
        "from pyspark.ml.evaluation import BinaryClassificationEvaluator\n",
        "from pyspark.sql import SparkSession\n",
        "from pyspark.sql.functions import when\n",
        "from pyspark.ml import Pipeline\n",
        "\n",
        "categorical_cols = ['gender', 'work_type', 'Residence_type', 'smoking_status']\n",
        "numeric_cols = ['age', 'hypertension', 'heart_disease', 'avg_glucose_level']\n",
        "target_col = 'stroke'\n",
        "\n",
        "spark = SparkSession.builder.appName(\"StrokePrediction\").getOrCreate()\n",
        "df = spark.read.csv(\"/content/healthcare-dataset-stroke-data.csv\", header=True, inferSchema=True)\n",
        "\n",
        "# One-hot encoding for categorical columns\n",
        "indexers = [StringIndexer(inputCol=col, outputCol=col + \"_index\") for col in categorical_cols]\n",
        "encoders = [OneHotEncoder(inputCol=col + \"_index\", outputCol=col + \"_encoded\") for col in categorical_cols]\n",
        "# Vector Assembler\n",
        "assembler = VectorAssembler(inputCols=numeric_cols + [col + \"_encoded\" for col in categorical_cols], outputCol='features')\n",
        "# Creating a model\n",
        "rf = RandomForestClassifier(featuresCol='features', labelCol=target_col, numTrees=100, maxDepth=10)\n",
        "\n",
        "evaluator = BinaryClassificationEvaluator(labelCol=target_col)\n",
        "# Creating a Pipeline\n",
        "pipeline = Pipeline(stages=indexers + encoders + [assembler, rf])\n",
        "pipeline_model = pipeline.fit(df)\n",
        "predictions = pipeline_model.transform(df)\n",
        "\n",
        "df_with_predictions = df_with_predictions.select(['ID', target_col, 'Stroke_Prediction_Label'])\n",
        "df_with_predictions.show()\n",
        "\n",
        "# Accuracy Calculation\n",
        "accuracy = evaluator.evaluate(predictions)\n",
        "accuracy_1 = accuracy\n",
        "print(\"Model Accuracy: {:.2f}%\".format(accuracy_1 * 100))\n",
        "spark.stop()\n"
      ],
      "metadata": {
        "colab": {
          "base_uri": "https://localhost:8080/"
        },
        "id": "PWMJYqseCv-G",
        "outputId": "a1b56fad-b0b0-46cc-e351-33fa1f582571"
      },
      "execution_count": null,
      "outputs": [
        {
          "output_type": "stream",
          "name": "stdout",
          "text": [
            "+-----+------+-----------------------+\n",
            "|   ID|stroke|Stroke_Prediction_Label|\n",
            "+-----+------+-----------------------+\n",
            "| 9046|     1|                      1|\n",
            "|51676|     1|                      1|\n",
            "|31112|     1|                      1|\n",
            "|60182|     1|                      1|\n",
            "| 1665|     1|                      1|\n",
            "|56669|     1|                      1|\n",
            "|53882|     1|                      1|\n",
            "|10434|     1|                      1|\n",
            "|27419|     1|                      1|\n",
            "|60491|     1|                      1|\n",
            "|12109|     1|                      1|\n",
            "|12095|     1|                      1|\n",
            "|12175|     1|                      1|\n",
            "| 8213|     1|                      1|\n",
            "| 5317|     1|                      0|\n",
            "|58202|     1|                      1|\n",
            "|56112|     1|                      1|\n",
            "|34120|     1|                      1|\n",
            "|27458|     1|                      1|\n",
            "|25226|     1|                      0|\n",
            "+-----+------+-----------------------+\n",
            "only showing top 20 rows\n",
            "\n",
            "Model Accuracy: 95.98%\n"
          ]
        }
      ]
    },
    {
      "cell_type": "markdown",
      "source": [
        "**HYPER PARAMETER TUNING**"
      ],
      "metadata": {
        "id": "CNJUwogi-vGk"
      }
    },
    {
      "cell_type": "markdown",
      "source": [
        "Num trees - 50\n",
        "\n",
        "Max depth - 2"
      ],
      "metadata": {
        "id": "zUL9h2GvsuEZ"
      }
    },
    {
      "cell_type": "code",
      "source": [
        "\n",
        "from pyspark.ml.classification import RandomForestClassifier\n",
        "from pyspark.ml.feature import VectorAssembler, StringIndexer, OneHotEncoder\n",
        "from pyspark.ml.evaluation import BinaryClassificationEvaluator\n",
        "from pyspark.sql import SparkSession\n",
        "from pyspark.sql.functions import when\n",
        "from pyspark.ml import Pipeline\n",
        "\n",
        "categorical_cols = ['gender', 'work_type', 'Residence_type', 'smoking_status']\n",
        "numeric_cols = ['age', 'hypertension', 'heart_disease', 'avg_glucose_level']\n",
        "target_col = 'stroke'\n",
        "spark = SparkSession.builder.appName(\"StrokePrediction\").getOrCreate()\n",
        "df = spark.read.csv(\"/content/healthcare-dataset-stroke-data.csv\", header=True, inferSchema=True)\n",
        "\n",
        "# One-hot encoding for categorical columns\n",
        "indexers = [StringIndexer(inputCol=col, outputCol=col + \"_index\") for col in categorical_cols]\n",
        "encoders = [OneHotEncoder(inputCol=col + \"_index\", outputCol=col + \"_encoded\") for col in categorical_cols]\n",
        "# Vector Assembler\n",
        "assembler = VectorAssembler(inputCols=numeric_cols + [col + \"_encoded\" for col in categorical_cols], outputCol='features')\n",
        "# Creating a model\n",
        "rf = RandomForestClassifier(featuresCol='features', labelCol=target_col, numTrees=50, maxDepth=2)\n",
        "evaluator = BinaryClassificationEvaluator(labelCol=target_col)\n",
        "pipeline = Pipeline(stages=indexers + encoders + [assembler, rf])\n",
        "pipeline_model = pipeline.fit(df)\n",
        "\n",
        "predictions = pipeline_model.transform(df)\n",
        "\n",
        "\n",
        "df_with_predictions = df_with_predictions.select(['ID', target_col, 'Stroke_Prediction_Label'])\n",
        "df_with_predictions.show()\n",
        "# Accuracy Calculation\n",
        "accuracy = evaluator.evaluate(predictions)\n",
        "accuracy_1 = accuracy\n",
        "print(\"Model Accuracy: {:.2f}%\".format(accuracy_1 * 100))\n",
        "spark.stop()"
      ],
      "metadata": {
        "id": "PQLtKopR92sk"
      },
      "execution_count": null,
      "outputs": []
    },
    {
      "cell_type": "markdown",
      "source": [
        "Num trees - 50\n",
        "\n",
        "Max depth - 5"
      ],
      "metadata": {
        "id": "4U1rZeSks3zv"
      }
    },
    {
      "cell_type": "code",
      "source": [
        "from pyspark.ml.classification import RandomForestClassifier\n",
        "from pyspark.ml.feature import VectorAssembler, StringIndexer, OneHotEncoder\n",
        "from pyspark.ml.evaluation import BinaryClassificationEvaluator\n",
        "from pyspark.sql import SparkSession\n",
        "from pyspark.sql.functions import when\n",
        "from pyspark.ml import Pipeline\n",
        "\n",
        "categorical_cols = ['gender', 'work_type', 'Residence_type', 'smoking_status']\n",
        "numeric_cols = ['age', 'hypertension', 'heart_disease', 'avg_glucose_level']\n",
        "target_col = 'stroke'\n",
        "spark = SparkSession.builder.appName(\"StrokePrediction\").getOrCreate()\n",
        "df = spark.read.csv(\"/content/healthcare-dataset-stroke-data.csv\", header=True, inferSchema=True)\n",
        "# One-hot encoding for categorical columns\n",
        "indexers = [StringIndexer(inputCol=col, outputCol=col + \"_index\") for col in categorical_cols]\n",
        "encoders = [OneHotEncoder(inputCol=col + \"_index\", outputCol=col + \"_encoded\") for col in categorical_cols]\n",
        "# Vector Assembler\n",
        "assembler = VectorAssembler(inputCols=numeric_cols + [col + \"_encoded\" for col in categorical_cols], outputCol='features')\n",
        "rf = RandomForestClassifier(featuresCol='features', labelCol=target_col, numTrees=50, maxDepth=5)\n",
        "evaluator = BinaryClassificationEvaluator(labelCol=target_col)\n",
        "\n",
        "pipeline = Pipeline(stages=indexers + encoders + [assembler, rf])\n",
        "pipeline_model = pipeline.fit(df)\n",
        "\n",
        "predictions = pipeline_model.transform(df)\n",
        "\n",
        "\n",
        "df_with_predictions = df_with_predictions.select(['ID', target_col, 'Stroke_Prediction_Label'])\n",
        "df_with_predictions.show()\n",
        "# Accuracy calculation\n",
        "accuracy = evaluator.evaluate(predictions)\n",
        "accuracy_2 = accuracy\n",
        "print(\"Model Accuracy: {:.2f}%\".format(accuracy_2 * 100))\n",
        "spark.stop()\n"
      ],
      "metadata": {
        "colab": {
          "base_uri": "https://localhost:8080/"
        },
        "id": "wF_Lv_iy-WJm",
        "outputId": "8a417850-1a70-4aeb-fc68-7da6b5e86049"
      },
      "execution_count": null,
      "outputs": [
        {
          "output_type": "stream",
          "name": "stdout",
          "text": [
            "+-----+------+-----------------------+\n",
            "|   ID|stroke|Stroke_Prediction_Label|\n",
            "+-----+------+-----------------------+\n",
            "| 9046|     1|                      1|\n",
            "|51676|     1|                      1|\n",
            "|31112|     1|                      1|\n",
            "|60182|     1|                      1|\n",
            "| 1665|     1|                      1|\n",
            "|56669|     1|                      1|\n",
            "|53882|     1|                      1|\n",
            "|10434|     1|                      1|\n",
            "|27419|     1|                      1|\n",
            "|60491|     1|                      1|\n",
            "|12109|     1|                      1|\n",
            "|12095|     1|                      1|\n",
            "|12175|     1|                      1|\n",
            "| 8213|     1|                      1|\n",
            "| 5317|     1|                      1|\n",
            "|58202|     1|                      1|\n",
            "|56112|     1|                      1|\n",
            "|34120|     1|                      1|\n",
            "|27458|     1|                      1|\n",
            "|25226|     1|                      1|\n",
            "+-----+------+-----------------------+\n",
            "only showing top 20 rows\n",
            "\n",
            "Model Accuracy: 86.10%\n"
          ]
        }
      ]
    },
    {
      "cell_type": "markdown",
      "source": [
        "Num trees - 50\n",
        "\n",
        "Max depth - 10"
      ],
      "metadata": {
        "id": "GYhlzlkSs67L"
      }
    },
    {
      "cell_type": "code",
      "source": [
        "from pyspark.ml.classification import RandomForestClassifier\n",
        "from pyspark.ml.feature import VectorAssembler, StringIndexer, OneHotEncoder\n",
        "from pyspark.ml.evaluation import BinaryClassificationEvaluator\n",
        "from pyspark.sql import SparkSession\n",
        "from pyspark.sql.functions import when\n",
        "from pyspark.ml import Pipeline\n",
        "\n",
        "categorical_cols = ['gender', 'work_type', 'Residence_type', 'smoking_status']\n",
        "numeric_cols = ['age', 'hypertension', 'heart_disease', 'avg_glucose_level']\n",
        "target_col = 'stroke'\n",
        "spark = SparkSession.builder.appName(\"StrokePrediction\").getOrCreate()\n",
        "df = spark.read.csv(\"/content/healthcare-dataset-stroke-data.csv\", header=True, inferSchema=True)\n",
        "# One-hot encoding of categorical columns\n",
        "indexers = [StringIndexer(inputCol=col, outputCol=col + \"_index\") for col in categorical_cols]\n",
        "encoders = [OneHotEncoder(inputCol=col + \"_index\", outputCol=col + \"_encoded\") for col in categorical_cols]\n",
        "# Vector Assembler\n",
        "assembler = VectorAssembler(inputCols=numeric_cols + [col + \"_encoded\" for col in categorical_cols], outputCol='features')\n",
        "rf = RandomForestClassifier(featuresCol='features', labelCol=target_col, numTrees=50, maxDepth=10)\n",
        "\n",
        "evaluator = BinaryClassificationEvaluator(labelCol=target_col)\n",
        "pipeline = Pipeline(stages=indexers + encoders + [assembler, rf])\n",
        "\n",
        "pipeline_model = pipeline.fit(df)\n",
        "predictions = pipeline_model.transform(df)\n",
        "\n",
        "df_with_predictions = df_with_predictions.select(['ID', target_col, 'Stroke_Prediction_Label'])\n",
        "df_with_predictions.show()\n",
        "# Accuracy Calculation\n",
        "accuracy = evaluator.evaluate(predictions)\n",
        "accuracy_3 = accuracy\n",
        "print(\"Model Accuracy: {:.2f}%\".format(accuracy_3 * 100))\n",
        "spark.stop()\n"
      ],
      "metadata": {
        "colab": {
          "base_uri": "https://localhost:8080/"
        },
        "id": "3RQv96lE-rcC",
        "outputId": "437df99e-8ec6-4372-d934-66101c2a33ca"
      },
      "execution_count": null,
      "outputs": [
        {
          "output_type": "stream",
          "name": "stdout",
          "text": [
            "+-----+------+-----------------------+\n",
            "|   ID|stroke|Stroke_Prediction_Label|\n",
            "+-----+------+-----------------------+\n",
            "| 9046|     1|                      1|\n",
            "|51676|     1|                      1|\n",
            "|31112|     1|                      1|\n",
            "|60182|     1|                      1|\n",
            "| 1665|     1|                      1|\n",
            "|56669|     1|                      1|\n",
            "|53882|     1|                      1|\n",
            "|10434|     1|                      1|\n",
            "|27419|     1|                      1|\n",
            "|60491|     1|                      1|\n",
            "|12109|     1|                      1|\n",
            "|12095|     1|                      0|\n",
            "|12175|     1|                      1|\n",
            "| 8213|     1|                      1|\n",
            "| 5317|     1|                      0|\n",
            "|58202|     1|                      1|\n",
            "|56112|     1|                      1|\n",
            "|34120|     1|                      1|\n",
            "|27458|     1|                      1|\n",
            "|25226|     1|                      0|\n",
            "+-----+------+-----------------------+\n",
            "only showing top 20 rows\n",
            "\n",
            "Model Accuracy: 96.17%\n"
          ]
        }
      ]
    },
    {
      "cell_type": "markdown",
      "source": [
        "Num trees - 100\n",
        "\n",
        "Max depth - 2"
      ],
      "metadata": {
        "id": "X1eCF4tjs9C8"
      }
    },
    {
      "cell_type": "code",
      "source": [
        "from pyspark.ml.classification import RandomForestClassifier\n",
        "from pyspark.ml.feature import VectorAssembler, StringIndexer, OneHotEncoder\n",
        "from pyspark.ml.evaluation import BinaryClassificationEvaluator\n",
        "from pyspark.sql import SparkSession\n",
        "from pyspark.sql.functions import when\n",
        "from pyspark.ml import Pipeline\n",
        "\n",
        "categorical_cols = ['gender', 'work_type', 'Residence_type', 'smoking_status']\n",
        "numeric_cols = ['age', 'hypertension', 'heart_disease', 'avg_glucose_level']\n",
        "target_col = 'stroke'\n",
        "\n",
        "spark = SparkSession.builder.appName(\"StrokePrediction\").getOrCreate()\n",
        "df = spark.read.csv(\"/content/healthcare-dataset-stroke-data.csv\", header=True, inferSchema=True)\n",
        "# One-hot encoding for categorical columns\n",
        "indexers = [StringIndexer(inputCol=col, outputCol=col + \"_index\") for col in categorical_cols]\n",
        "encoders = [OneHotEncoder(inputCol=col + \"_index\", outputCol=col + \"_encoded\") for col in categorical_cols]\n",
        "\n",
        "assembler = VectorAssembler(inputCols=numeric_cols + [col + \"_encoded\" for col in categorical_cols], outputCol='features')\n",
        "rf = RandomForestClassifier(featuresCol='features', labelCol=target_col, numTrees=100, maxDepth=2)\n",
        "evaluator = BinaryClassificationEvaluator(labelCol=target_col)\n",
        "# Pipeline\n",
        "pipeline = Pipeline(stages=indexers + encoders + [assembler, rf])\n",
        "pipeline_model = pipeline.fit(df)\n",
        "predictions = pipeline_model.transform(df)\n",
        "\n",
        "df_with_predictions = df_with_predictions.select(['ID', target_col, 'Stroke_Prediction_Label'])\n",
        "df_with_predictions.show()\n",
        "# Accuracy Calculation\n",
        "accuracy = evaluator.evaluate(predictions)\n",
        "accuracy_4 = accuracy\n",
        "print(\"Model Accuracy: {:.2f}%\".format(accuracy_4 * 100))\n",
        "spark.stop()\n"
      ],
      "metadata": {
        "colab": {
          "base_uri": "https://localhost:8080/"
        },
        "id": "2ys3lTUL-8Or",
        "outputId": "196f6abe-5bbb-4971-bb7f-15edac0e9421"
      },
      "execution_count": null,
      "outputs": [
        {
          "output_type": "stream",
          "name": "stdout",
          "text": [
            "+-----+------+-----------------------+\n",
            "|   ID|stroke|Stroke_Prediction_Label|\n",
            "+-----+------+-----------------------+\n",
            "| 9046|     1|                      1|\n",
            "|51676|     1|                      1|\n",
            "|31112|     1|                      1|\n",
            "|60182|     1|                      1|\n",
            "| 1665|     1|                      1|\n",
            "|56669|     1|                      1|\n",
            "|53882|     1|                      1|\n",
            "|10434|     1|                      1|\n",
            "|27419|     1|                      1|\n",
            "|60491|     1|                      1|\n",
            "|12109|     1|                      1|\n",
            "|12095|     1|                      1|\n",
            "|12175|     1|                      1|\n",
            "| 8213|     1|                      1|\n",
            "| 5317|     1|                      1|\n",
            "|58202|     1|                      1|\n",
            "|56112|     1|                      1|\n",
            "|34120|     1|                      1|\n",
            "|27458|     1|                      1|\n",
            "|25226|     1|                      1|\n",
            "+-----+------+-----------------------+\n",
            "only showing top 20 rows\n",
            "\n",
            "Model Accuracy: 50.00%\n"
          ]
        }
      ]
    },
    {
      "cell_type": "markdown",
      "source": [
        "Num trees - 100\n",
        "\n",
        "Max depth - 5"
      ],
      "metadata": {
        "id": "K1S96lygs_He"
      }
    },
    {
      "cell_type": "code",
      "source": [
        "from pyspark.ml.classification import RandomForestClassifier\n",
        "from pyspark.ml.feature import VectorAssembler, StringIndexer, OneHotEncoder\n",
        "from pyspark.ml.evaluation import BinaryClassificationEvaluator\n",
        "from pyspark.sql import SparkSession\n",
        "from pyspark.sql.functions import when\n",
        "from pyspark.ml import Pipeline\n",
        "\n",
        "categorical_cols = ['gender', 'work_type', 'Residence_type', 'smoking_status']\n",
        "numeric_cols = ['age', 'hypertension', 'heart_disease', 'avg_glucose_level']\n",
        "target_col = 'stroke'\n",
        "\n",
        "spark = SparkSession.builder.appName(\"StrokePrediction\").getOrCreate()\n",
        "df = spark.read.csv(\"/content/healthcare-dataset-stroke-data.csv\", header=True, inferSchema=True)\n",
        "# One-hot encoding of categorical columns\n",
        "indexers = [StringIndexer(inputCol=col, outputCol=col + \"_index\") for col in categorical_cols]\n",
        "encoders = [OneHotEncoder(inputCol=col + \"_index\", outputCol=col + \"_encoded\") for col in categorical_cols]\n",
        "# Vector Assembler\n",
        "assembler = VectorAssembler(inputCols=numeric_cols + [col + \"_encoded\" for col in categorical_cols], outputCol='features')\n",
        "rf = RandomForestClassifier(featuresCol='features', labelCol=target_col, numTrees=100, maxDepth=5)\n",
        "evaluator = BinaryClassificationEvaluator(labelCol=target_col)\n",
        "# Creating a Pipeline\n",
        "pipeline = Pipeline(stages=indexers + encoders + [assembler, rf])\n",
        "pipeline_model = pipeline.fit(df)\n",
        "predictions = pipeline_model.transform(df)\n",
        "\n",
        "df_with_predictions = df_with_predictions.select(['ID', target_col, 'Stroke_Prediction_Label'])\n",
        "df_with_predictions.show()\n",
        "# Accuracy calculation\n",
        "accuracy = evaluator.evaluate(predictions)\n",
        "accuracy_5 = accuracy\n",
        "print(\"Model Accuracy: {:.2f}%\".format(accuracy_5 * 100))\n",
        "spark.stop()\n"
      ],
      "metadata": {
        "colab": {
          "base_uri": "https://localhost:8080/"
        },
        "id": "X5uDTIgG_IX-",
        "outputId": "344d486f-79fa-4a9d-977e-99fdee04033d"
      },
      "execution_count": null,
      "outputs": [
        {
          "output_type": "stream",
          "name": "stdout",
          "text": [
            "+-----+------+-----------------------+\n",
            "|   ID|stroke|Stroke_Prediction_Label|\n",
            "+-----+------+-----------------------+\n",
            "| 9046|     1|                      1|\n",
            "|51676|     1|                      1|\n",
            "|31112|     1|                      1|\n",
            "|60182|     1|                      1|\n",
            "| 1665|     1|                      1|\n",
            "|56669|     1|                      1|\n",
            "|53882|     1|                      1|\n",
            "|10434|     1|                      1|\n",
            "|27419|     1|                      1|\n",
            "|60491|     1|                      1|\n",
            "|12109|     1|                      1|\n",
            "|12095|     1|                      1|\n",
            "|12175|     1|                      1|\n",
            "| 8213|     1|                      1|\n",
            "| 5317|     1|                      1|\n",
            "|58202|     1|                      1|\n",
            "|56112|     1|                      1|\n",
            "|34120|     1|                      1|\n",
            "|27458|     1|                      1|\n",
            "|25226|     1|                      1|\n",
            "+-----+------+-----------------------+\n",
            "only showing top 20 rows\n",
            "\n",
            "Model Accuracy: 86.13%\n"
          ]
        }
      ]
    },
    {
      "cell_type": "markdown",
      "source": [
        "Num trees - 100\n",
        "\n",
        "Max depth - 10"
      ],
      "metadata": {
        "id": "rGRblqKMtB24"
      }
    },
    {
      "cell_type": "code",
      "source": [
        "from pyspark.ml.classification import RandomForestClassifier\n",
        "from pyspark.ml.feature import VectorAssembler, StringIndexer, OneHotEncoder\n",
        "from pyspark.ml.evaluation import BinaryClassificationEvaluator\n",
        "from pyspark.sql import SparkSession\n",
        "from pyspark.sql.functions import when\n",
        "from pyspark.ml import Pipeline\n",
        "\n",
        "categorical_cols = ['gender', 'work_type', 'Residence_type', 'smoking_status']\n",
        "numeric_cols = ['age', 'hypertension', 'heart_disease', 'avg_glucose_level']\n",
        "target_col = 'stroke'\n",
        "\n",
        "spark = SparkSession.builder.appName(\"StrokePrediction\").getOrCreate()\n",
        "df = spark.read.csv(\"/content/healthcare-dataset-stroke-data.csv\", header=True, inferSchema=True)\n",
        "# One-hot encoding for categorical columns\n",
        "indexers = [StringIndexer(inputCol=col, outputCol=col + \"_index\") for col in categorical_cols]\n",
        "encoders = [OneHotEncoder(inputCol=col + \"_index\", outputCol=col + \"_encoded\") for col in categorical_cols]\n",
        "# Vector Assembler\n",
        "assembler = VectorAssembler(inputCols=numeric_cols + [col + \"_encoded\" for col in categorical_cols], outputCol='features')\n",
        "rf = RandomForestClassifier(featuresCol='features', labelCol=target_col, numTrees=100, maxDepth=10)\n",
        "evaluator = BinaryClassificationEvaluator(labelCol=target_col)\n",
        "# Pipeline\n",
        "pipeline = Pipeline(stages=indexers + encoders + [assembler, rf])\n",
        "pipeline_model = pipeline.fit(df)\n",
        "predictions = pipeline_model.transform(df)\n",
        "\n",
        "df_with_predictions = df_with_predictions.select(['ID', target_col, 'Stroke_Prediction_Label'])\n",
        "df_with_predictions.show()\n",
        "# Accuracy calculation\n",
        "accuracy = evaluator.evaluate(predictions)\n",
        "accuracy_6 = accuracy\n",
        "print(\"Model Accuracy: {:.2f}%\".format(accuracy_6 * 100))\n",
        "spark.stop()\n"
      ],
      "metadata": {
        "colab": {
          "base_uri": "https://localhost:8080/"
        },
        "id": "Ei0QanTn_O-i",
        "outputId": "817103d0-2c6c-4d63-83ee-16a1d6424011"
      },
      "execution_count": null,
      "outputs": [
        {
          "output_type": "stream",
          "name": "stdout",
          "text": [
            "+-----+------+-----------------------+\n",
            "|   ID|stroke|Stroke_Prediction_Label|\n",
            "+-----+------+-----------------------+\n",
            "| 9046|     1|                      1|\n",
            "|51676|     1|                      1|\n",
            "|31112|     1|                      1|\n",
            "|60182|     1|                      1|\n",
            "| 1665|     1|                      1|\n",
            "|56669|     1|                      1|\n",
            "|53882|     1|                      1|\n",
            "|10434|     1|                      1|\n",
            "|27419|     1|                      1|\n",
            "|60491|     1|                      1|\n",
            "|12109|     1|                      1|\n",
            "|12095|     1|                      1|\n",
            "|12175|     1|                      1|\n",
            "| 8213|     1|                      1|\n",
            "| 5317|     1|                      0|\n",
            "|58202|     1|                      1|\n",
            "|56112|     1|                      1|\n",
            "|34120|     1|                      1|\n",
            "|27458|     1|                      1|\n",
            "|25226|     1|                      0|\n",
            "+-----+------+-----------------------+\n",
            "only showing top 20 rows\n",
            "\n",
            "Model Accuracy: 95.98%\n"
          ]
        }
      ]
    },
    {
      "cell_type": "markdown",
      "source": [
        "Num trees - 150\n",
        "\n",
        "Max depth - 2"
      ],
      "metadata": {
        "id": "Yn7e5oWytFFy"
      }
    },
    {
      "cell_type": "code",
      "source": [
        "from pyspark.ml.classification import RandomForestClassifier\n",
        "from pyspark.ml.feature import VectorAssembler, StringIndexer, OneHotEncoder\n",
        "from pyspark.ml.evaluation import BinaryClassificationEvaluator\n",
        "from pyspark.sql import SparkSession\n",
        "from pyspark.sql.functions import when\n",
        "from pyspark.ml import Pipeline\n",
        "\n",
        "categorical_cols = ['gender', 'work_type', 'Residence_type', 'smoking_status']\n",
        "numeric_cols = ['age', 'hypertension', 'heart_disease', 'avg_glucose_level']\n",
        "target_col = 'stroke'\n",
        "\n",
        "spark = SparkSession.builder.appName(\"StrokePrediction\").getOrCreate()\n",
        "df = spark.read.csv(\"/content/healthcare-dataset-stroke-data.csv\", header=True, inferSchema=True)\n",
        "# One-hot encoding for categorical columns\n",
        "indexers = [StringIndexer(inputCol=col, outputCol=col + \"_index\") for col in categorical_cols]\n",
        "encoders = [OneHotEncoder(inputCol=col + \"_index\", outputCol=col + \"_encoded\") for col in categorical_cols]\n",
        "# Vector Assembler\n",
        "assembler = VectorAssembler(inputCols=numeric_cols + [col + \"_encoded\" for col in categorical_cols], outputCol='features')\n",
        "# Creating a model\n",
        "rf = RandomForestClassifier(featuresCol='features', labelCol=target_col, numTrees=150, maxDepth=2)\n",
        "evaluator = BinaryClassificationEvaluator(labelCol=target_col)\n",
        "# Creating Pipeline\n",
        "pipeline = Pipeline(stages=indexers + encoders + [assembler, rf])\n",
        "pipeline_model = pipeline.fit(df)\n",
        "predictions = pipeline_model.transform(df)\n",
        "\n",
        "df_with_predictions = df_with_predictions.select(['ID', target_col, 'Stroke_Prediction_Label'])\n",
        "df_with_predictions.show()\n",
        "# Accuracy Calculation\n",
        "accuracy = evaluator.evaluate(predictions)\n",
        "accuracy_7 = accuracy\n",
        "print(\"Model Accuracy: {:.2f}%\".format(accuracy_7 * 100))\n",
        "spark.stop()\n"
      ],
      "metadata": {
        "colab": {
          "base_uri": "https://localhost:8080/"
        },
        "id": "OuN9aQLc_UTS",
        "outputId": "91844a01-c665-409a-c0e2-f4cf866315b2"
      },
      "execution_count": null,
      "outputs": [
        {
          "output_type": "stream",
          "name": "stdout",
          "text": [
            "+-----+------+-----------------------+\n",
            "|   ID|stroke|Stroke_Prediction_Label|\n",
            "+-----+------+-----------------------+\n",
            "| 9046|     1|                      1|\n",
            "|51676|     1|                      1|\n",
            "|31112|     1|                      1|\n",
            "|60182|     1|                      1|\n",
            "| 1665|     1|                      1|\n",
            "|56669|     1|                      1|\n",
            "|53882|     1|                      1|\n",
            "|10434|     1|                      1|\n",
            "|27419|     1|                      1|\n",
            "|60491|     1|                      1|\n",
            "|12109|     1|                      1|\n",
            "|12095|     1|                      1|\n",
            "|12175|     1|                      1|\n",
            "| 8213|     1|                      1|\n",
            "| 5317|     1|                      1|\n",
            "|58202|     1|                      1|\n",
            "|56112|     1|                      1|\n",
            "|34120|     1|                      1|\n",
            "|27458|     1|                      1|\n",
            "|25226|     1|                      1|\n",
            "+-----+------+-----------------------+\n",
            "only showing top 20 rows\n",
            "\n",
            "Model Accuracy: 50.00%\n"
          ]
        }
      ]
    },
    {
      "cell_type": "markdown",
      "source": [
        "Num trees - 150\n",
        "\n",
        "Max depth - 5"
      ],
      "metadata": {
        "id": "C95GyiHBtHLQ"
      }
    },
    {
      "cell_type": "code",
      "source": [
        "from pyspark.ml.classification import RandomForestClassifier\n",
        "from pyspark.ml.feature import VectorAssembler, StringIndexer, OneHotEncoder\n",
        "from pyspark.ml.evaluation import BinaryClassificationEvaluator\n",
        "from pyspark.sql import SparkSession\n",
        "from pyspark.sql.functions import when\n",
        "from pyspark.ml import Pipeline\n",
        "\n",
        "categorical_cols = ['gender', 'work_type', 'Residence_type', 'smoking_status']\n",
        "numeric_cols = ['age', 'hypertension', 'heart_disease', 'avg_glucose_level']\n",
        "target_col = 'stroke'\n",
        "spark = SparkSession.builder.appName(\"StrokePrediction\").getOrCreate()\n",
        "df = spark.read.csv(\"/content/healthcare-dataset-stroke-data.csv\", header=True, inferSchema=True)\n",
        "# One-hot encoding for categorical columns\n",
        "indexers = [StringIndexer(inputCol=col, outputCol=col + \"_index\") for col in categorical_cols]\n",
        "encoders = [OneHotEncoder(inputCol=col + \"_index\", outputCol=col + \"_encoded\") for col in categorical_cols]\n",
        "# Vector Assembler\n",
        "assembler = VectorAssembler(inputCols=numeric_cols + [col + \"_encoded\" for col in categorical_cols], outputCol='features')\n",
        "rf = RandomForestClassifier(featuresCol='features', labelCol=target_col, numTrees=150, maxDepth=5)\n",
        "evaluator = BinaryClassificationEvaluator(labelCol=target_col)\n",
        "# Creating a Pipeline\n",
        "pipeline = Pipeline(stages=indexers + encoders + [assembler, rf])\n",
        "pipeline_model = pipeline.fit(df)\n",
        "predictions = pipeline_model.transform(df)\n",
        "\n",
        "df_with_predictions = df_with_predictions.select(['ID', target_col, 'Stroke_Prediction_Label'])\n",
        "df_with_predictions.show()\n",
        "# Accuracy Calculation\n",
        "accuracy = evaluator.evaluate(predictions)\n",
        "accuracy_8 = accuracy\n",
        "print(\"Model Accuracy: {:.2f}%\".format(accuracy_8 * 100))\n",
        "spark.stop()\n"
      ],
      "metadata": {
        "colab": {
          "base_uri": "https://localhost:8080/"
        },
        "id": "YXsHRflV_blJ",
        "outputId": "000463d7-b3a7-4126-a80f-ed718dfbe4ff"
      },
      "execution_count": null,
      "outputs": [
        {
          "output_type": "stream",
          "name": "stdout",
          "text": [
            "+-----+------+-----------------------+\n",
            "|   ID|stroke|Stroke_Prediction_Label|\n",
            "+-----+------+-----------------------+\n",
            "| 9046|     1|                      1|\n",
            "|51676|     1|                      1|\n",
            "|31112|     1|                      1|\n",
            "|60182|     1|                      1|\n",
            "| 1665|     1|                      1|\n",
            "|56669|     1|                      1|\n",
            "|53882|     1|                      1|\n",
            "|10434|     1|                      1|\n",
            "|27419|     1|                      1|\n",
            "|60491|     1|                      1|\n",
            "|12109|     1|                      1|\n",
            "|12095|     1|                      1|\n",
            "|12175|     1|                      1|\n",
            "| 8213|     1|                      1|\n",
            "| 5317|     1|                      1|\n",
            "|58202|     1|                      1|\n",
            "|56112|     1|                      1|\n",
            "|34120|     1|                      1|\n",
            "|27458|     1|                      1|\n",
            "|25226|     1|                      1|\n",
            "+-----+------+-----------------------+\n",
            "only showing top 20 rows\n",
            "\n",
            "Model Accuracy: 85.84%\n"
          ]
        }
      ]
    },
    {
      "cell_type": "markdown",
      "source": [
        "Num trees - 150\n",
        "\n",
        "Max depth - 10"
      ],
      "metadata": {
        "id": "2Yvy1z2qtJZF"
      }
    },
    {
      "cell_type": "code",
      "source": [
        "from pyspark.ml.classification import RandomForestClassifier\n",
        "from pyspark.ml.feature import VectorAssembler, StringIndexer, OneHotEncoder\n",
        "from pyspark.ml.evaluation import BinaryClassificationEvaluator\n",
        "from pyspark.sql import SparkSession\n",
        "from pyspark.sql.functions import when\n",
        "from pyspark.ml import Pipeline\n",
        "\n",
        "categorical_cols = ['gender', 'work_type', 'Residence_type', 'smoking_status']\n",
        "numeric_cols = ['age', 'hypertension', 'heart_disease', 'avg_glucose_level']\n",
        "target_col = 'stroke'\n",
        "spark = SparkSession.builder.appName(\"StrokePrediction\").getOrCreate()\n",
        "df = spark.read.csv(\"/content/healthcare-dataset-stroke-data.csv\", header=True, inferSchema=True)\n",
        "# One-hot encoding for categorical columns\n",
        "indexers = [StringIndexer(inputCol=col, outputCol=col + \"_index\") for col in categorical_cols]\n",
        "encoders = [OneHotEncoder(inputCol=col + \"_index\", outputCol=col + \"_encoded\") for col in categorical_cols]\n",
        "# Vector Assembler\n",
        "assembler = VectorAssembler(inputCols=numeric_cols + [col + \"_encoded\" for col in categorical_cols], outputCol='features')\n",
        "rf = RandomForestClassifier(featuresCol='features', labelCol=target_col, numTrees=150, maxDepth=10)\n",
        "evaluator = BinaryClassificationEvaluator(labelCol=target_col)\n",
        "pipeline = Pipeline(stages=indexers + encoders + [assembler, rf])\n",
        "pipeline_model = pipeline.fit(df)\n",
        "predictions = pipeline_model.transform(df)\n",
        "\n",
        "\n",
        "df_with_predictions = df_with_predictions.select(['ID', target_col, 'Stroke_Prediction_Label'])\n",
        "df_with_predictions.show()\n",
        "# Accuracy Calculation\n",
        "accuracy = evaluator.evaluate(predictions)\n",
        "accuracy_9 = accuracy\n",
        "print(\"Model Accuracy: {:.2f}%\".format(accuracy_9 * 100))\n",
        "spark.stop()\n"
      ],
      "metadata": {
        "colab": {
          "base_uri": "https://localhost:8080/"
        },
        "id": "FOaccF-S_gha",
        "outputId": "4ecc2b40-d59c-4207-b2f2-14a40fcd4398"
      },
      "execution_count": null,
      "outputs": [
        {
          "output_type": "stream",
          "name": "stdout",
          "text": [
            "+-----+------+-----------------------+\n",
            "|   ID|stroke|Stroke_Prediction_Label|\n",
            "+-----+------+-----------------------+\n",
            "| 9046|     1|                      1|\n",
            "|51676|     1|                      1|\n",
            "|31112|     1|                      0|\n",
            "|60182|     1|                      1|\n",
            "| 1665|     1|                      1|\n",
            "|56669|     1|                      1|\n",
            "|53882|     1|                      1|\n",
            "|10434|     1|                      1|\n",
            "|27419|     1|                      1|\n",
            "|60491|     1|                      1|\n",
            "|12109|     1|                      1|\n",
            "|12095|     1|                      1|\n",
            "|12175|     1|                      1|\n",
            "| 8213|     1|                      1|\n",
            "| 5317|     1|                      0|\n",
            "|58202|     1|                      1|\n",
            "|56112|     1|                      0|\n",
            "|34120|     1|                      1|\n",
            "|27458|     1|                      1|\n",
            "|25226|     1|                      0|\n",
            "+-----+------+-----------------------+\n",
            "only showing top 20 rows\n",
            "\n",
            "Model Accuracy: 96.12%\n"
          ]
        }
      ]
    },
    {
      "cell_type": "markdown",
      "source": [
        "**MODEL ACCURACY CHART FOR RANDOM FOREST CLASSIFIER**"
      ],
      "metadata": {
        "id": "Bs913dyy_u3A"
      }
    },
    {
      "cell_type": "code",
      "source": [
        "from tabulate import tabulate\n",
        "method_accuracies = [\n",
        "    [\"Method 1\", \"50\", \"2\" , accuracy_1*100],\n",
        "    [\"Method 2\", \"50\", \"5\" , accuracy_2*100],\n",
        "    [\"Method 3\", \"50\", \"10\" , accuracy_3*100],\n",
        "    [\"Method 4\", \"100\", \"2\" , accuracy_4*100],\n",
        "    [\"Method 5\", \"100\", \"5\" , accuracy_5*100],\n",
        "    [\"Method 6\", \"100\", \"10\" , accuracy_6*100],\n",
        "    [\"Method 7\", \"150\", \"2\" , accuracy_7*100],\n",
        "    [\"Method 8\", \"150\", \"5\" , accuracy_8*100],\n",
        "    [\"Method 9\", \"150\", \"10\" , accuracy_9*100],\n",
        "]\n",
        "\n",
        "headers = [\"Method\",\"Number Of Trees\", \"Max Depth\", \"Accuracy\"]\n",
        "table = tabulate(method_accuracies, headers, tablefmt=\"pretty\")\n",
        "print(table)\n"
      ],
      "metadata": {
        "colab": {
          "base_uri": "https://localhost:8080/"
        },
        "id": "OYk6CILNAEM1",
        "outputId": "b76af76e-6820-42b8-c69b-85cbf0212d51"
      },
      "execution_count": null,
      "outputs": [
        {
          "output_type": "stream",
          "name": "stdout",
          "text": [
            "+----------+-----------------+-----------+-------------------+\n",
            "|  Method  | Number Of Trees | Max Depth |     Accuracy      |\n",
            "+----------+-----------------+-----------+-------------------+\n",
            "| Method 1 |       50        |     2     |       50.0        |\n",
            "| Method 2 |       50        |     5     | 86.09587496251213 |\n",
            "| Method 3 |       50        |    10     | 96.17284195411557 |\n",
            "| Method 4 |       100       |     2     |       50.0        |\n",
            "| Method 5 |       100       |     5     | 86.13437498192741 |\n",
            "| Method 6 |       100       |    10     | 95.98058971124237 |\n",
            "| Method 7 |       150       |     2     |       50.0        |\n",
            "| Method 8 |       150       |     5     | 85.8390153909197  |\n",
            "| Method 9 |       150       |    10     | 96.11864450189195 |\n",
            "+----------+-----------------+-----------+-------------------+\n"
          ]
        }
      ]
    },
    {
      "cell_type": "markdown",
      "source": [
        "**Line Chart for Accuracy table**"
      ],
      "metadata": {
        "id": "1BA51gahXb8B"
      }
    },
    {
      "cell_type": "code",
      "source": [
        "import matplotlib.pyplot as plt\n",
        "method_names = [row[0] for row in method_accuracies]\n",
        "accuracy_values = [row[3] for row in method_accuracies]\n",
        "num_trees = [int(row[1]) for row in method_accuracies]\n",
        "max_depth = [int(row[2]) for row in method_accuracies]\n",
        "plt.figure(figsize=(10, 6))\n",
        "x_values = range(len(method_accuracies))\n",
        "\n",
        "for method, accuracy, n_trees, depth in zip(method_names, accuracy_values, num_trees, max_depth):\n",
        "    plt.plot(x_values, [accuracy] * len(x_values), label=f\"{method} ({n_trees} trees, max depth {depth})\")\n",
        "plt.xlabel('Method Configuration')\n",
        "plt.ylabel('Accuracy (%)')\n",
        "plt.title('Line Chart for Accuracy')\n",
        "plt.xticks(x_values, method_names, rotation=45, ha='right')\n",
        "plt.legend()\n",
        "plt.tight_layout()\n",
        "plt.show()\n"
      ],
      "metadata": {
        "colab": {
          "base_uri": "https://localhost:8080/",
          "height": 607
        },
        "id": "JXIWP831XGtB",
        "outputId": "6d958ea5-aff0-4f95-ecad-fa10f4f92622"
      },
      "execution_count": null,
      "outputs": [
        {
          "output_type": "display_data",
          "data": {
            "text/plain": [
              "<Figure size 1000x600 with 1 Axes>"
            ],
            "image/png": "[encoded data removed]"
          },
          "metadata": {}
        }
      ]
    },
    {
      "cell_type": "markdown",
      "source": [
        "**GBT WITHOUT PIPELINE**"
      ],
      "metadata": {
        "id": "sWxkh5aPftee"
      }
    },
    {
      "cell_type": "markdown",
      "source": [
        "**What is GBT ?**\n",
        "\n",
        "GBT stands for Gradient Boosted Trees, a machine learning algorithm used for both classification and regression tasks. It builds an ensemble of decision trees in a sequential manner, where each tree corrects the errors of the previous one, resulting in a powerful predictive model."
      ],
      "metadata": {
        "id": "1leKOWz9tSTG"
      }
    },
    {
      "cell_type": "code",
      "source": [
        "from pyspark.ml.classification import GBTClassifier\n",
        "from pyspark.ml.feature import VectorAssembler, StringIndexer, OneHotEncoder\n",
        "from pyspark.ml.evaluation import BinaryClassificationEvaluator\n",
        "from pyspark.sql import SparkSession\n",
        "from pyspark.sql.functions import when\n",
        "\n",
        "categorical_cols = ['gender', 'work_type', 'Residence_type', 'smoking_status']\n",
        "numeric_cols = ['age', 'hypertension', 'heart_disease', 'avg_glucose_level']\n",
        "target_col = 'stroke'\n",
        "spark = SparkSession.builder.appName(\"StrokePrediction\").getOrCreate()\n",
        "df = spark.read.csv(\"/content/healthcare-dataset-stroke-data.csv\", header=True, inferSchema=True)\n",
        "# One-hot encoding for categorical columns\n",
        "indexers = [StringIndexer(inputCol=col, outputCol=col + \"_index\") for col in categorical_cols]\n",
        "for indexer in indexers:\n",
        "    df = indexer.fit(df).transform(df)\n",
        "\n",
        "encoders = [OneHotEncoder(inputCol=col + \"_index\", outputCol=col + \"_encoded\") for col in categorical_cols]\n",
        "encoder_models = [encoder.fit(df) for encoder in encoders]\n",
        "for encoder, encoder_model in zip(encoders, encoder_models):\n",
        "    df = encoder_model.transform(df)\n",
        "# Vector Assembler\n",
        "assembler = VectorAssembler(inputCols=numeric_cols + [col + \"_encoded\" for col in categorical_cols], outputCol='features')\n",
        "df = assembler.transform(df)\n",
        "# Creating a model\n",
        "gbt = GBTClassifier(featuresCol='features', labelCol=target_col, maxDepth=3, maxIter=100)\n",
        "gbt_model = gbt.fit(df)\n",
        "predictions = gbt_model.transform(df)\n",
        "\n",
        "\n",
        "df_with_predictions = df_with_predictions.select(['ID', target_col, 'Stroke_Prediction_Label'])\n",
        "df_with_predictions.show()\n",
        "# Accuracy Calculation\n",
        "evaluator = BinaryClassificationEvaluator(labelCol=target_col)\n",
        "accuracy = evaluator.evaluate(predictions)\n",
        "accuracy_g1 = accuracy\n",
        "print(\"Model Accuracy: {:.2f}%\".format(accuracy * 100))\n",
        "spark.stop()\n"
      ],
      "metadata": {
        "id": "XU3v2OiKA1g1",
        "colab": {
          "base_uri": "https://localhost:8080/"
        },
        "outputId": "6dbdc3ab-00d0-45a2-da77-c1041ba265cc"
      },
      "execution_count": null,
      "outputs": [
        {
          "output_type": "stream",
          "name": "stdout",
          "text": [
            "+-----+------+-----------------------+\n",
            "|   ID|stroke|Stroke_Prediction_Label|\n",
            "+-----+------+-----------------------+\n",
            "| 9046|     1|                      1|\n",
            "|51676|     1|                      1|\n",
            "|31112|     1|                      1|\n",
            "|60182|     1|                      1|\n",
            "| 1665|     1|                      1|\n",
            "|56669|     1|                      1|\n",
            "|53882|     1|                      1|\n",
            "|10434|     1|                      1|\n",
            "|27419|     1|                      1|\n",
            "|60491|     1|                      1|\n",
            "|12109|     1|                      1|\n",
            "|12095|     1|                      1|\n",
            "|12175|     1|                      1|\n",
            "| 8213|     1|                      1|\n",
            "| 5317|     1|                      1|\n",
            "|58202|     1|                      1|\n",
            "|56112|     1|                      1|\n",
            "|34120|     1|                      1|\n",
            "|27458|     1|                      1|\n",
            "|25226|     1|                      1|\n",
            "+-----+------+-----------------------+\n",
            "only showing top 20 rows\n",
            "\n",
            "Model Accuracy: 87.77%\n"
          ]
        }
      ]
    },
    {
      "cell_type": "markdown",
      "source": [
        "**GBT WITH PIPELINE**"
      ],
      "metadata": {
        "id": "g7C8tf7EhAEh"
      }
    },
    {
      "cell_type": "code",
      "source": [
        "from pyspark.ml.classification import GBTClassifier\n",
        "from pyspark.ml.feature import VectorAssembler, StringIndexer, OneHotEncoder, VectorIndexer\n",
        "from pyspark.ml.evaluation import BinaryClassificationEvaluator\n",
        "from pyspark.sql import SparkSession\n",
        "from pyspark.ml import Pipeline\n",
        "from pyspark.sql.functions import when\n",
        "\n",
        "categorical_cols = ['gender', 'work_type', 'Residence_type', 'smoking_status']\n",
        "numeric_cols = ['age', 'hypertension', 'heart_disease', 'avg_glucose_level']\n",
        "target_col = 'stroke'\n",
        "spark = SparkSession.builder.appName(\"StrokePrediction\").getOrCreate()\n",
        "df = spark.read.csv(\"/content/healthcare-dataset-stroke-data.csv\", header=True, inferSchema=True)\n",
        "# One-hot encoding for categorical columns\n",
        "indexers = [StringIndexer(inputCol=col, outputCol=col + \"_index\") for col in categorical_cols]\n",
        "encoders = [OneHotEncoder(inputCol=col + \"_index\", outputCol=col + \"_encoded\") for col in categorical_cols]\n",
        "# Vector Assembler\n",
        "assembler = VectorAssembler(inputCols=numeric_cols + [col + \"_encoded\" for col in categorical_cols], outputCol='features')\n",
        "# Creating a model\n",
        "gbt = GBTClassifier(featuresCol='features', labelCol=target_col, maxDepth=5, maxIter=100)\n",
        "# Creating Pipeline\n",
        "pipeline = Pipeline(stages=indexers + encoders + [assembler, gbt])\n",
        "model = pipeline.fit(df)\n",
        "predictions = model.transform(df)\n",
        "\n",
        "df_with_predictions = df_with_predictions.select(['ID', target_col, 'Stroke_Prediction_Label'])\n",
        "df_with_predictions.show()\n",
        "# Accuracy Calculation\n",
        "evaluator = BinaryClassificationEvaluator(labelCol=target_col)\n",
        "accuracy = evaluator.evaluate(predictions)\n",
        "print(\"Model Accuracy: {:.2f}%\".format(accuracy * 100))\n",
        "spark.stop()\n"
      ],
      "metadata": {
        "id": "Dbirr_vKfxvs",
        "colab": {
          "base_uri": "https://localhost:8080/"
        },
        "outputId": "092783cc-2e89-4575-f8b0-b4db846d8026"
      },
      "execution_count": null,
      "outputs": [
        {
          "output_type": "stream",
          "name": "stdout",
          "text": [
            "+-----+------+-----------------------+\n",
            "|   ID|stroke|Stroke_Prediction_Label|\n",
            "+-----+------+-----------------------+\n",
            "| 9046|     1|                      1|\n",
            "|51676|     1|                      1|\n",
            "|31112|     1|                      1|\n",
            "|60182|     1|                      1|\n",
            "| 1665|     1|                      1|\n",
            "|56669|     1|                      1|\n",
            "|53882|     1|                      1|\n",
            "|10434|     1|                      1|\n",
            "|27419|     1|                      1|\n",
            "|60491|     1|                      0|\n",
            "|12109|     1|                      1|\n",
            "|12095|     1|                      1|\n",
            "|12175|     1|                      1|\n",
            "| 8213|     1|                      1|\n",
            "| 5317|     1|                      1|\n",
            "|58202|     1|                      1|\n",
            "|56112|     1|                      1|\n",
            "|34120|     1|                      1|\n",
            "|27458|     1|                      1|\n",
            "|25226|     1|                      0|\n",
            "+-----+------+-----------------------+\n",
            "only showing top 20 rows\n",
            "\n",
            "Model Accuracy: 94.21%\n"
          ]
        }
      ]
    },
    {
      "cell_type": "markdown",
      "source": [
        "**HYPER PARAMETER TUNING**"
      ],
      "metadata": {
        "id": "pXj9wy5Tms2Q"
      }
    },
    {
      "cell_type": "markdown",
      "source": [
        "Max depth - 3\n",
        "\n",
        "Max iter - 20"
      ],
      "metadata": {
        "id": "OcNeR-egtbj0"
      }
    },
    {
      "cell_type": "code",
      "source": [
        "from pyspark.ml.classification import GBTClassifier\n",
        "from pyspark.ml.feature import VectorAssembler, StringIndexer, OneHotEncoder\n",
        "from pyspark.ml.evaluation import BinaryClassificationEvaluator\n",
        "from pyspark.sql import SparkSession\n",
        "from pyspark.sql.functions import when\n",
        "\n",
        "categorical_cols = ['gender', 'work_type', 'Residence_type', 'smoking_status']\n",
        "numeric_cols = ['age', 'hypertension', 'heart_disease', 'avg_glucose_level']\n",
        "target_col = 'stroke'\n",
        "spark = SparkSession.builder.appName(\"StrokePrediction\").getOrCreate()\n",
        "df = spark.read.csv(\"/content/healthcare-dataset-stroke-data.csv\", header=True, inferSchema=True)\n",
        "# One-hot encoding for categorical columns\n",
        "indexers = [StringIndexer(inputCol=col, outputCol=col + \"_index\") for col in categorical_cols]\n",
        "for indexer in indexers:\n",
        "    df = indexer.fit(df).transform(df)\n",
        "\n",
        "encoders = [OneHotEncoder(inputCol=col + \"_index\", outputCol=col + \"_encoded\") for col in categorical_cols]\n",
        "encoder_models = [encoder.fit(df) for encoder in encoders]\n",
        "for encoder, encoder_model in zip(encoders, encoder_models):\n",
        "    df = encoder_model.transform(df)\n",
        "# Vector Assembler\n",
        "assembler = VectorAssembler(inputCols=numeric_cols + [col + \"_encoded\" for col in categorical_cols], outputCol='features')\n",
        "df = assembler.transform(df)\n",
        "# Creating a model\n",
        "gbt = GBTClassifier(featuresCol='features', labelCol=target_col, maxDepth=3, maxIter=20)\n",
        "gbt_model = gbt.fit(df)\n",
        "predictions = gbt_model.transform(df)\n",
        "\n",
        "df_with_predictions = df_with_predictions.select(['ID', target_col, 'Stroke_Prediction_Label'])\n",
        "df_with_predictions.show()\n",
        "# Accuracy Calculation\n",
        "evaluator = BinaryClassificationEvaluator(labelCol=target_col)\n",
        "accuracy = evaluator.evaluate(predictions)\n",
        "accuracy_g1 = accuracy\n",
        "print(\"Model Accuracy: {:.2f}%\".format(accuracy * 100))\n",
        "spark.stop()\n"
      ],
      "metadata": {
        "colab": {
          "base_uri": "https://localhost:8080/"
        },
        "id": "wX1AvsnimRnk",
        "outputId": "2dfb9545-8353-4dda-fd7e-80b4275b13ee"
      },
      "execution_count": null,
      "outputs": [
        {
          "output_type": "stream",
          "name": "stdout",
          "text": [
            "+-----+------+-----------------------+\n",
            "|   ID|stroke|Stroke_Prediction_Label|\n",
            "+-----+------+-----------------------+\n",
            "| 9046|     1|                      1|\n",
            "|51676|     1|                      1|\n",
            "|31112|     1|                      1|\n",
            "|60182|     1|                      1|\n",
            "| 1665|     1|                      1|\n",
            "|56669|     1|                      1|\n",
            "|53882|     1|                      1|\n",
            "|10434|     1|                      1|\n",
            "|27419|     1|                      1|\n",
            "|60491|     1|                      1|\n",
            "|12109|     1|                      1|\n",
            "|12095|     1|                      1|\n",
            "|12175|     1|                      1|\n",
            "| 8213|     1|                      1|\n",
            "| 5317|     1|                      1|\n",
            "|58202|     1|                      1|\n",
            "|56112|     1|                      1|\n",
            "|34120|     1|                      1|\n",
            "|27458|     1|                      1|\n",
            "|25226|     1|                      1|\n",
            "+-----+------+-----------------------+\n",
            "only showing top 20 rows\n",
            "\n",
            "Model Accuracy: 86.34%\n"
          ]
        }
      ]
    },
    {
      "cell_type": "markdown",
      "source": [
        "Max depth - 3\n",
        "\n",
        "Max iter - 50"
      ],
      "metadata": {
        "id": "1wT81soGth7Q"
      }
    },
    {
      "cell_type": "code",
      "source": [
        "from pyspark.ml.classification import GBTClassifier\n",
        "from pyspark.ml.feature import VectorAssembler, StringIndexer, OneHotEncoder\n",
        "from pyspark.ml.evaluation import BinaryClassificationEvaluator\n",
        "from pyspark.sql import SparkSession\n",
        "from pyspark.sql.functions import when\n",
        "\n",
        "categorical_cols = ['gender', 'work_type', 'Residence_type', 'smoking_status']\n",
        "numeric_cols = ['age', 'hypertension', 'heart_disease', 'avg_glucose_level']\n",
        "target_col = 'stroke'\n",
        "spark = SparkSession.builder.appName(\"StrokePrediction\").getOrCreate()\n",
        "df = spark.read.csv(\"/content/healthcare-dataset-stroke-data.csv\", header=True, inferSchema=True)\n",
        "# One-hot encoding for categorical columns\n",
        "indexers = [StringIndexer(inputCol=col, outputCol=col + \"_index\") for col in categorical_cols]\n",
        "for indexer in indexers:\n",
        "    df = indexer.fit(df).transform(df)\n",
        "\n",
        "encoders = [OneHotEncoder(inputCol=col + \"_index\", outputCol=col + \"_encoded\") for col in categorical_cols]\n",
        "encoder_models = [encoder.fit(df) for encoder in encoders]\n",
        "for encoder, encoder_model in zip(encoders, encoder_models):\n",
        "    df = encoder_model.transform(df)\n",
        "# Vector Assembler\n",
        "assembler = VectorAssembler(inputCols=numeric_cols + [col + \"_encoded\" for col in categorical_cols], outputCol='features')\n",
        "df = assembler.transform(df)\n",
        "# Creating a model\n",
        "gbt = GBTClassifier(featuresCol='features', labelCol=target_col, maxDepth=3, maxIter=50)\n",
        "gbt_model = gbt.fit(df)\n",
        "predictions = gbt_model.transform(df)\n",
        "\n",
        "\n",
        "df_with_predictions = df_with_predictions.select(['ID', target_col, 'Stroke_Prediction_Label'])\n",
        "df_with_predictions.show()\n",
        "# Accuracy Calculation\n",
        "evaluator = BinaryClassificationEvaluator(labelCol=target_col)\n",
        "accuracy = evaluator.evaluate(predictions)\n",
        "accuracy_g2 = accuracy\n",
        "print(\"Model Accuracy: {:.2f}%\".format(accuracy * 100))\n",
        "spark.stop()\n"
      ],
      "metadata": {
        "colab": {
          "base_uri": "https://localhost:8080/"
        },
        "id": "duHFykW9m4a7",
        "outputId": "2a227818-b508-4a56-d24d-264beed4f1e6"
      },
      "execution_count": null,
      "outputs": [
        {
          "output_type": "stream",
          "name": "stdout",
          "text": [
            "+-----+------+-----------------------+\n",
            "|   ID|stroke|Stroke_Prediction_Label|\n",
            "+-----+------+-----------------------+\n",
            "| 9046|     1|                      1|\n",
            "|51676|     1|                      1|\n",
            "|31112|     1|                      1|\n",
            "|60182|     1|                      1|\n",
            "| 1665|     1|                      1|\n",
            "|56669|     1|                      1|\n",
            "|53882|     1|                      1|\n",
            "|10434|     1|                      1|\n",
            "|27419|     1|                      1|\n",
            "|60491|     1|                      1|\n",
            "|12109|     1|                      1|\n",
            "|12095|     1|                      1|\n",
            "|12175|     1|                      1|\n",
            "| 8213|     1|                      1|\n",
            "| 5317|     1|                      1|\n",
            "|58202|     1|                      1|\n",
            "|56112|     1|                      1|\n",
            "|34120|     1|                      1|\n",
            "|27458|     1|                      1|\n",
            "|25226|     1|                      1|\n",
            "+-----+------+-----------------------+\n",
            "only showing top 20 rows\n",
            "\n",
            "Model Accuracy: 87.14%\n"
          ]
        }
      ]
    },
    {
      "cell_type": "markdown",
      "source": [
        "Max depth - 3\n",
        "\n",
        "Max iter - 100"
      ],
      "metadata": {
        "id": "1jOIvsVRtk-8"
      }
    },
    {
      "cell_type": "code",
      "source": [
        "from pyspark.ml.classification import GBTClassifier\n",
        "from pyspark.ml.feature import VectorAssembler, StringIndexer, OneHotEncoder\n",
        "from pyspark.ml.evaluation import BinaryClassificationEvaluator\n",
        "from pyspark.sql import SparkSession\n",
        "from pyspark.sql.functions import when\n",
        "\n",
        "categorical_cols = ['gender', 'work_type', 'Residence_type', 'smoking_status']\n",
        "numeric_cols = ['age', 'hypertension', 'heart_disease', 'avg_glucose_level']\n",
        "target_col = 'stroke'\n",
        "spark = SparkSession.builder.appName(\"StrokePrediction\").getOrCreate()\n",
        "df = spark.read.csv(\"/content/healthcare-dataset-stroke-data.csv\", header=True, inferSchema=True)\n",
        "# One-hot encoding for categorical columns\n",
        "indexers = [StringIndexer(inputCol=col, outputCol=col + \"_index\") for col in categorical_cols]\n",
        "for indexer in indexers:\n",
        "    df = indexer.fit(df).transform(df)\n",
        "\n",
        "encoders = [OneHotEncoder(inputCol=col + \"_index\", outputCol=col + \"_encoded\") for col in categorical_cols]\n",
        "encoder_models = [encoder.fit(df) for encoder in encoders]\n",
        "for encoder, encoder_model in zip(encoders, encoder_models):\n",
        "    df = encoder_model.transform(df)\n",
        "# Vector Assembler\n",
        "assembler = VectorAssembler(inputCols=numeric_cols + [col + \"_encoded\" for col in categorical_cols], outputCol='features')\n",
        "df = assembler.transform(df)\n",
        "# Creating a model\n",
        "gbt = GBTClassifier(featuresCol='features', labelCol=target_col, maxDepth=3, maxIter=100)\n",
        "gbt_model = gbt.fit(df)\n",
        "predictions = gbt_model.transform(df)\n",
        "\n",
        "\n",
        "df_with_predictions = df_with_predictions.select(['ID', target_col, 'Stroke_Prediction_Label'])\n",
        "df_with_predictions.show()\n",
        "# Accuracy Calculation\n",
        "evaluator = BinaryClassificationEvaluator(labelCol=target_col)\n",
        "accuracy = evaluator.evaluate(predictions)\n",
        "accuracy_g3 = accuracy\n",
        "print(\"Model Accuracy: {:.2f}%\".format(accuracy * 100))\n",
        "spark.stop()\n"
      ],
      "metadata": {
        "colab": {
          "base_uri": "https://localhost:8080/"
        },
        "id": "SaNndcrQm8H2",
        "outputId": "6e940573-70b6-4f81-ef02-a7a67d1dfef8"
      },
      "execution_count": null,
      "outputs": [
        {
          "output_type": "stream",
          "name": "stdout",
          "text": [
            "+-----+------+-----------------------+\n",
            "|   ID|stroke|Stroke_Prediction_Label|\n",
            "+-----+------+-----------------------+\n",
            "| 9046|     1|                      1|\n",
            "|51676|     1|                      1|\n",
            "|31112|     1|                      1|\n",
            "|60182|     1|                      1|\n",
            "| 1665|     1|                      1|\n",
            "|56669|     1|                      1|\n",
            "|53882|     1|                      1|\n",
            "|10434|     1|                      1|\n",
            "|27419|     1|                      1|\n",
            "|60491|     1|                      1|\n",
            "|12109|     1|                      1|\n",
            "|12095|     1|                      1|\n",
            "|12175|     1|                      1|\n",
            "| 8213|     1|                      1|\n",
            "| 5317|     1|                      1|\n",
            "|58202|     1|                      1|\n",
            "|56112|     1|                      1|\n",
            "|34120|     1|                      1|\n",
            "|27458|     1|                      1|\n",
            "|25226|     1|                      1|\n",
            "+-----+------+-----------------------+\n",
            "only showing top 20 rows\n",
            "\n",
            "Model Accuracy: 87.77%\n"
          ]
        }
      ]
    },
    {
      "cell_type": "markdown",
      "source": [
        "Max depth - 5\n",
        "\n",
        "Max iter - 20"
      ],
      "metadata": {
        "id": "eJ3b8J8otnD9"
      }
    },
    {
      "cell_type": "code",
      "source": [
        "from pyspark.ml.classification import GBTClassifier\n",
        "from pyspark.ml.feature import VectorAssembler, StringIndexer, OneHotEncoder\n",
        "from pyspark.ml.evaluation import BinaryClassificationEvaluator\n",
        "from pyspark.sql import SparkSession\n",
        "from pyspark.sql.functions import when\n",
        "\n",
        "categorical_cols = ['gender', 'work_type', 'Residence_type', 'smoking_status']\n",
        "numeric_cols = ['age', 'hypertension', 'heart_disease', 'avg_glucose_level']\n",
        "target_col = 'stroke'\n",
        "spark = SparkSession.builder.appName(\"StrokePrediction\").getOrCreate()\n",
        "df = spark.read.csv(\"/content/healthcare-dataset-stroke-data.csv\", header=True, inferSchema=True)\n",
        "# One-hot encoding for categorical columns\n",
        "indexers = [StringIndexer(inputCol=col, outputCol=col + \"_index\") for col in categorical_cols]\n",
        "for indexer in indexers:\n",
        "    df = indexer.fit(df).transform(df)\n",
        "\n",
        "encoders = [OneHotEncoder(inputCol=col + \"_index\", outputCol=col + \"_encoded\") for col in categorical_cols]\n",
        "encoder_models = [encoder.fit(df) for encoder in encoders]\n",
        "for encoder, encoder_model in zip(encoders, encoder_models):\n",
        "    df = encoder_model.transform(df)\n",
        "# Vector Assembler\n",
        "assembler = VectorAssembler(inputCols=numeric_cols + [col + \"_encoded\" for col in categorical_cols], outputCol='features')\n",
        "df = assembler.transform(df)\n",
        "# Creating a model\n",
        "gbt = GBTClassifier(featuresCol='features', labelCol=target_col, maxDepth=5, maxIter=20)\n",
        "gbt_model = gbt.fit(df)\n",
        "predictions = gbt_model.transform(df)\n",
        "\n",
        "\n",
        "df_with_predictions = df_with_predictions.select(['ID', target_col, 'Stroke_Prediction_Label'])\n",
        "df_with_predictions.show()\n",
        "# Accuracy Calculation\n",
        "evaluator = BinaryClassificationEvaluator(labelCol=target_col)\n",
        "accuracy = evaluator.evaluate(predictions)\n",
        "accuracy_g4 = accuracy\n",
        "print(\"Model Accuracy: {:.2f}%\".format(accuracy * 100))\n",
        "spark.stop()\n"
      ],
      "metadata": {
        "colab": {
          "base_uri": "https://localhost:8080/"
        },
        "id": "MwJI17hSm-2u",
        "outputId": "7415ee45-f082-40be-eb9d-ac77d667e2c1"
      },
      "execution_count": null,
      "outputs": [
        {
          "output_type": "stream",
          "name": "stdout",
          "text": [
            "+-----+------+-----------------------+\n",
            "|   ID|stroke|Stroke_Prediction_Label|\n",
            "+-----+------+-----------------------+\n",
            "| 9046|     1|                      1|\n",
            "|51676|     1|                      1|\n",
            "|31112|     1|                      1|\n",
            "|60182|     1|                      1|\n",
            "| 1665|     1|                      1|\n",
            "|56669|     1|                      1|\n",
            "|53882|     1|                      1|\n",
            "|10434|     1|                      1|\n",
            "|27419|     1|                      1|\n",
            "|60491|     1|                      1|\n",
            "|12109|     1|                      1|\n",
            "|12095|     1|                      1|\n",
            "|12175|     1|                      1|\n",
            "| 8213|     1|                      1|\n",
            "| 5317|     1|                      1|\n",
            "|58202|     1|                      1|\n",
            "|56112|     1|                      1|\n",
            "|34120|     1|                      1|\n",
            "|27458|     1|                      1|\n",
            "|25226|     1|                      0|\n",
            "+-----+------+-----------------------+\n",
            "only showing top 20 rows\n",
            "\n",
            "Model Accuracy: 91.67%\n"
          ]
        }
      ]
    },
    {
      "cell_type": "markdown",
      "source": [
        "Max depth - 5\n",
        "\n",
        "Max iter - 50"
      ],
      "metadata": {
        "id": "WNPyq4u6toe4"
      }
    },
    {
      "cell_type": "code",
      "source": [
        "from pyspark.ml.classification import GBTClassifier\n",
        "from pyspark.ml.feature import VectorAssembler, StringIndexer, OneHotEncoder\n",
        "from pyspark.ml.evaluation import BinaryClassificationEvaluator\n",
        "from pyspark.sql import SparkSession\n",
        "from pyspark.sql.functions import when\n",
        "\n",
        "categorical_cols = ['gender', 'work_type', 'Residence_type', 'smoking_status']\n",
        "numeric_cols = ['age', 'hypertension', 'heart_disease', 'avg_glucose_level']\n",
        "target_col = 'stroke'\n",
        "spark = SparkSession.builder.appName(\"StrokePrediction\").getOrCreate()\n",
        "df = spark.read.csv(\"/content/healthcare-dataset-stroke-data.csv\", header=True, inferSchema=True)\n",
        "# One-hot encoding for categorical columns\n",
        "indexers = [StringIndexer(inputCol=col, outputCol=col + \"_index\") for col in categorical_cols]\n",
        "for indexer in indexers:\n",
        "    df = indexer.fit(df).transform(df)\n",
        "\n",
        "encoders = [OneHotEncoder(inputCol=col + \"_index\", outputCol=col + \"_encoded\") for col in categorical_cols]\n",
        "encoder_models = [encoder.fit(df) for encoder in encoders]\n",
        "for encoder, encoder_model in zip(encoders, encoder_models):\n",
        "    df = encoder_model.transform(df)\n",
        "# Vector Assembler\n",
        "assembler = VectorAssembler(inputCols=numeric_cols + [col + \"_encoded\" for col in categorical_cols], outputCol='features')\n",
        "df = assembler.transform(df)\n",
        "# Creating a model\n",
        "gbt = GBTClassifier(featuresCol='features', labelCol=target_col, maxDepth=5, maxIter=50)\n",
        "gbt_model = gbt.fit(df)\n",
        "predictions = gbt_model.transform(df)\n",
        "\n",
        "\n",
        "df_with_predictions = df_with_predictions.select(['ID', target_col, 'Stroke_Prediction_Label'])\n",
        "df_with_predictions.show()\n",
        "# Accuracy Calculation\n",
        "evaluator = BinaryClassificationEvaluator(labelCol=target_col)\n",
        "accuracy = evaluator.evaluate(predictions)\n",
        "accuracy_g5 = accuracy\n",
        "print(\"Model Accuracy: {:.2f}%\".format(accuracy * 100))\n",
        "spark.stop()\n"
      ],
      "metadata": {
        "colab": {
          "base_uri": "https://localhost:8080/"
        },
        "id": "yVmmFQH3nBsN",
        "outputId": "47d1b7ae-2e2e-4955-96a4-1b97ee68409e"
      },
      "execution_count": null,
      "outputs": [
        {
          "output_type": "stream",
          "name": "stdout",
          "text": [
            "+-----+------+-----------------------+\n",
            "|   ID|stroke|Stroke_Prediction_Label|\n",
            "+-----+------+-----------------------+\n",
            "| 9046|     1|                      1|\n",
            "|51676|     1|                      1|\n",
            "|31112|     1|                      1|\n",
            "|60182|     1|                      1|\n",
            "| 1665|     1|                      1|\n",
            "|56669|     1|                      1|\n",
            "|53882|     1|                      1|\n",
            "|10434|     1|                      1|\n",
            "|27419|     1|                      1|\n",
            "|60491|     1|                      0|\n",
            "|12109|     1|                      1|\n",
            "|12095|     1|                      1|\n",
            "|12175|     1|                      1|\n",
            "| 8213|     1|                      1|\n",
            "| 5317|     1|                      1|\n",
            "|58202|     1|                      1|\n",
            "|56112|     1|                      1|\n",
            "|34120|     1|                      1|\n",
            "|27458|     1|                      1|\n",
            "|25226|     1|                      0|\n",
            "+-----+------+-----------------------+\n",
            "only showing top 20 rows\n",
            "\n",
            "Model Accuracy: 93.01%\n"
          ]
        }
      ]
    },
    {
      "cell_type": "markdown",
      "source": [
        "Max depth - 5\n",
        "\n",
        "Max iter - 100"
      ],
      "metadata": {
        "id": "kmuIke7ttqdO"
      }
    },
    {
      "cell_type": "code",
      "source": [
        "from pyspark.ml.classification import GBTClassifier\n",
        "from pyspark.ml.feature import VectorAssembler, StringIndexer, OneHotEncoder\n",
        "from pyspark.ml.evaluation import BinaryClassificationEvaluator\n",
        "from pyspark.sql import SparkSession\n",
        "from pyspark.sql.functions import when\n",
        "\n",
        "categorical_cols = ['gender', 'work_type', 'Residence_type', 'smoking_status']\n",
        "numeric_cols = ['age', 'hypertension', 'heart_disease', 'avg_glucose_level']\n",
        "target_col = 'stroke'\n",
        "spark = SparkSession.builder.appName(\"StrokePrediction\").getOrCreate()\n",
        "df = spark.read.csv(\"/content/healthcare-dataset-stroke-data.csv\", header=True, inferSchema=True)\n",
        "# One-hot encoding for categorical columns\n",
        "indexers = [StringIndexer(inputCol=col, outputCol=col + \"_index\") for col in categorical_cols]\n",
        "for indexer in indexers:\n",
        "    df = indexer.fit(df).transform(df)\n",
        "\n",
        "encoders = [OneHotEncoder(inputCol=col + \"_index\", outputCol=col + \"_encoded\") for col in categorical_cols]\n",
        "encoder_models = [encoder.fit(df) for encoder in encoders]\n",
        "for encoder, encoder_model in zip(encoders, encoder_models):\n",
        "    df = encoder_model.transform(df)\n",
        "# Vector Assembler\n",
        "assembler = VectorAssembler(inputCols=numeric_cols + [col + \"_encoded\" for col in categorical_cols], outputCol='features')\n",
        "df = assembler.transform(df)\n",
        "# Creating a model\n",
        "gbt = GBTClassifier(featuresCol='features', labelCol=target_col, maxDepth=5, maxIter=100)\n",
        "gbt_model = gbt.fit(df)\n",
        "predictions = gbt_model.transform(df)\n",
        "\n",
        "df_with_predictions = df_with_predictions.select(['ID', target_col, 'Stroke_Prediction_Label'])\n",
        "df_with_predictions.show()\n",
        "# Accuracy Calculation\n",
        "evaluator = BinaryClassificationEvaluator(labelCol=target_col)\n",
        "accuracy = evaluator.evaluate(predictions)\n",
        "accuracy_g6 = accuracy\n",
        "print(\"Model Accuracy: {:.2f}%\".format(accuracy * 100))\n",
        "spark.stop()\n"
      ],
      "metadata": {
        "colab": {
          "base_uri": "https://localhost:8080/"
        },
        "id": "jMbPTl0qnEew",
        "outputId": "daea405e-9cf8-412d-9fdd-a80947d74517"
      },
      "execution_count": null,
      "outputs": [
        {
          "output_type": "stream",
          "name": "stdout",
          "text": [
            "+-----+------+-----------------------+\n",
            "|   ID|stroke|Stroke_Prediction_Label|\n",
            "+-----+------+-----------------------+\n",
            "| 9046|     1|                      1|\n",
            "|51676|     1|                      1|\n",
            "|31112|     1|                      1|\n",
            "|60182|     1|                      1|\n",
            "| 1665|     1|                      1|\n",
            "|56669|     1|                      1|\n",
            "|53882|     1|                      1|\n",
            "|10434|     1|                      1|\n",
            "|27419|     1|                      1|\n",
            "|60491|     1|                      0|\n",
            "|12109|     1|                      1|\n",
            "|12095|     1|                      1|\n",
            "|12175|     1|                      1|\n",
            "| 8213|     1|                      1|\n",
            "| 5317|     1|                      1|\n",
            "|58202|     1|                      1|\n",
            "|56112|     1|                      1|\n",
            "|34120|     1|                      1|\n",
            "|27458|     1|                      1|\n",
            "|25226|     1|                      0|\n",
            "+-----+------+-----------------------+\n",
            "only showing top 20 rows\n",
            "\n",
            "Model Accuracy: 94.21%\n"
          ]
        }
      ]
    },
    {
      "cell_type": "markdown",
      "source": [
        "**ACCURACY CHART FOR GBT MODEL**"
      ],
      "metadata": {
        "id": "D9wb62Umt2Yw"
      }
    },
    {
      "cell_type": "code",
      "source": [
        "from tabulate import tabulate\n",
        "method_accuracies = [\n",
        "    [\"Method 1\", \"20\", \"3\" , accuracy_g1*100],\n",
        "    [\"Method 2\", \"20\", \"5\" , accuracy_g2*100],\n",
        "    [\"Method 3\", \"20\", \"10\" , accuracy_g3*100],\n",
        "    [\"Method 4\", \"50\", \"3\" , accuracy_g4*100],\n",
        "    [\"Method 5\", \"50\", \"5\" , accuracy_g5*100],\n",
        "    [\"Method 6\", \"50\", \"10\" , accuracy_g6*100],\n",
        "]\n",
        "\n",
        "headers = [\"Method\",\"Max Iters\", \"Max Depth\", \"Accuracy\"]\n",
        "table = tabulate(method_accuracies, headers, tablefmt=\"pretty\")\n",
        "print(table)\n"
      ],
      "metadata": {
        "id": "_OmZBnhvo3lP",
        "colab": {
          "base_uri": "https://localhost:8080/"
        },
        "outputId": "b06436e5-50a6-407f-d3f8-9b0f35b93d8e"
      },
      "execution_count": null,
      "outputs": [
        {
          "output_type": "stream",
          "name": "stdout",
          "text": [
            "+----------+-----------+-----------+-------------------+\n",
            "|  Method  | Max Iters | Max Depth |     Accuracy      |\n",
            "+----------+-----------+-----------+-------------------+\n",
            "| Method 1 |    20     |     3     | 86.34025920592472 |\n",
            "| Method 2 |    20     |     5     | 87.13752355647655 |\n",
            "| Method 3 |    20     |    10     | 87.7743023110752  |\n",
            "| Method 4 |    50     |     3     | 91.66883539093615 |\n",
            "| Method 5 |    50     |     5     | 93.00724808305452 |\n",
            "| Method 6 |    50     |    10     | 94.21111725238762 |\n",
            "+----------+-----------+-----------+-------------------+\n"
          ]
        }
      ]
    },
    {
      "cell_type": "code",
      "source": [],
      "metadata": {
        "id": "ZyAKV8GQB0sL"
      },
      "execution_count": null,
      "outputs": []
    },
    {
      "cell_type": "markdown",
      "source": [
        "**CHARTS**"
      ],
      "metadata": {
        "id": "CFdD4OsBuU8M"
      }
    },
    {
      "cell_type": "code",
      "source": [],
      "metadata": {
        "id": "beFxCAbRB0gZ"
      },
      "execution_count": null,
      "outputs": []
    },
    {
      "cell_type": "code",
      "source": [
        "import pandas as pd\n",
        "from pyspark.sql import SparkSession\n",
        "spark = SparkSession.builder.appName(\"StrokePredictionCharts\").getOrCreate()"
      ],
      "metadata": {
        "id": "cZO7ergLVVPa"
      },
      "execution_count": null,
      "outputs": []
    },
    {
      "cell_type": "code",
      "source": [
        "df1 = spark.read.option(\"header\", \"true\").csv(\"/content/healthcare-dataset-stroke-data.csv\")\n"
      ],
      "metadata": {
        "id": "PEtT2GoZVJhH"
      },
      "execution_count": null,
      "outputs": []
    },
    {
      "cell_type": "code",
      "source": [
        "df1.printSchema()"
      ],
      "metadata": {
        "colab": {
          "base_uri": "https://localhost:8080/"
        },
        "id": "UAPJpJTtVLRP",
        "outputId": "1b0d268f-cd2e-49d4-af9d-55f8c6f10215"
      },
      "execution_count": null,
      "outputs": [
        {
          "output_type": "stream",
          "name": "stdout",
          "text": [
            "root\n",
            " |-- id: string (nullable = true)\n",
            " |-- gender: string (nullable = true)\n",
            " |-- age: string (nullable = true)\n",
            " |-- hypertension: string (nullable = true)\n",
            " |-- heart_disease: string (nullable = true)\n",
            " |-- ever_married: string (nullable = true)\n",
            " |-- work_type: string (nullable = true)\n",
            " |-- Residence_type: string (nullable = true)\n",
            " |-- avg_glucose_level: string (nullable = true)\n",
            " |-- bmi: string (nullable = true)\n",
            " |-- smoking_status: string (nullable = true)\n",
            " |-- stroke: string (nullable = true)\n",
            "\n"
          ]
        }
      ]
    },
    {
      "cell_type": "markdown",
      "source": [
        "Bar Chart for Gender Counts"
      ],
      "metadata": {
        "id": "s5x16xCZu2JL"
      }
    },
    {
      "cell_type": "code",
      "source": [
        "from pyspark.sql import SparkSession\n",
        "import matplotlib.pyplot as plt\n",
        "gender_counts = df1.groupBy('gender').count().toPandas()\n",
        "plt.bar(gender_counts['gender'], gender_counts['count'])\n",
        "plt.xlabel('Gender')\n",
        "plt.ylabel('Count')\n",
        "plt.title('Distribution of Gender')\n",
        "plt.show()\n",
        "spark.stop()\n"
      ],
      "metadata": {
        "id": "KUZ1NEuLuz7c",
        "colab": {
          "base_uri": "https://localhost:8080/",
          "height": 472
        },
        "outputId": "88255a85-903c-4918-9bd1-2525dcad75a1"
      },
      "execution_count": null,
      "outputs": [
        {
          "output_type": "display_data",
          "data": {
            "text/plain": [
              "<Figure size 640x480 with 1 Axes>"
            ],
            "image/png": "[encoded data removed]"
          },
          "metadata": {}
        }
      ]
    }
  ]
}